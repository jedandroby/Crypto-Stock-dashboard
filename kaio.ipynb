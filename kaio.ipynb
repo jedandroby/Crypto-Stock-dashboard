{
 "cells": [
  {
   "cell_type": "code",
   "execution_count": 36,
   "id": "7a5af0db-799a-4f8f-a405-2a3df396aada",
   "metadata": {},
   "outputs": [],
   "source": [
    "import ccxt\n",
    "# jupyter lab --NotebookApp.iopub_data_rate_limit=1.0e10 - this command is required to run when opening jupyter labs or ccxt wont work in jupyter. or configure a config file.\n",
    "import pandas as pd\n",
    "import hvplot.pandas\n",
    "from dotenv import load_dotenv\n",
    "import alpaca_trade_api as tradeapi\n",
    "import os"
   ]
  },
  {
   "cell_type": "code",
   "execution_count": 29,
   "id": "9fcac13c-867b-47ea-91f7-5f724d6de4fd",
   "metadata": {},
   "outputs": [
    {
     "data": {
      "text/plain": [
       "True"
      ]
     },
     "execution_count": 29,
     "metadata": {},
     "output_type": "execute_result"
    }
   ],
   "source": [
    "load_dotenv()"
   ]
  },
  {
   "cell_type": "code",
   "execution_count": 30,
   "id": "84a1d196-e337-4d4b-9079-0b15265c8730",
   "metadata": {},
   "outputs": [],
   "source": [
    "# Set the variables for the Alpaca API and secret keys\n",
    "alpaca_api_key=os.getenv(\"ALPACA_API_KEY\")\n",
    "# Create the Alpaca tradeapi.REST object\n",
    "alpaca_secret_key=os.getenv(\"ALPACA_SECRET_KEY\")\n",
    "\n",
    "alpaca=tradeapi.REST(alpaca_api_key,alpaca_secret_key,api_version=\"v2\")"
   ]
  },
  {
   "cell_type": "code",
   "execution_count": 37,
   "id": "e077e00e-5ed5-4ebc-bc06-853bb79ec5cf",
   "metadata": {},
   "outputs": [],
   "source": [
    "#Setting the tickers\n",
    "tickers = ['SPY']\n",
    "\n",
    "#Setting the timeframe\n",
    "timeframe='1Day'\n",
    "\n",
    "#Formatting the date\n",
    "today = pd.Timestamp.now(tz=\"US/Pacific\")\n",
    "a_year_ago = pd.Timestamp(today - pd.Timedelta(days=365)).isoformat()\n",
    "end_date = pd.Timestamp(today - pd.Timedelta(days=1)).isoformat()\n",
    "\n",
    "#Getting the closing prices\n",
    "spy_price = alpaca.get_bars(\n",
    "    tickers,\n",
    "    timeframe,\n",
    "    start=a_year_ago,\n",
    "    end=end_date\n",
    ").df"
   ]
  },
  {
   "cell_type": "code",
   "execution_count": 44,
   "id": "1edb637b-d48b-4c2f-8667-dc3bc3c5a783",
   "metadata": {
    "tags": []
   },
   "outputs": [
    {
     "name": "stdout",
     "output_type": "stream",
     "text": [
      "                               open     high     low   close     volume  \\\n",
      "timestamp                                                                 \n",
      "2021-11-10 05:00:00+00:00  465.5800  467.380  462.04  463.62   69275988   \n",
      "2021-11-11 05:00:00+00:00  465.2100  465.290  463.75  463.77   34844670   \n",
      "2021-11-12 05:00:00+00:00  465.1299  467.860  464.11  467.27   53334930   \n",
      "2021-11-15 05:00:00+00:00  468.6400  468.810  466.23  467.43   46854294   \n",
      "2021-11-16 05:00:00+00:00  467.1500  470.485  467.07  469.28   48788475   \n",
      "...                             ...      ...     ...     ...        ...   \n",
      "2022-11-02 04:00:00+00:00  383.9000  388.620  374.76  374.87  123496452   \n",
      "2022-11-03 04:00:00+00:00  371.4650  374.200  368.79  371.01   85657400   \n",
      "2022-11-04 04:00:00+00:00  377.0000  378.870  370.00  376.35  103253613   \n",
      "2022-11-07 05:00:00+00:00  377.7100  380.570  375.53  379.95   68127819   \n",
      "2022-11-08 05:00:00+00:00  381.1100  385.120  377.72  382.00   84098301   \n",
      "\n",
      "                           trade_count        vwap symbol  \n",
      "timestamp                                                  \n",
      "2021-11-10 05:00:00+00:00       555212  464.877737    SPY  \n",
      "2021-11-11 05:00:00+00:00       282309  464.366817    SPY  \n",
      "2021-11-12 05:00:00+00:00       343865  466.308140    SPY  \n",
      "2021-11-15 05:00:00+00:00       371884  467.374137    SPY  \n",
      "2021-11-16 05:00:00+00:00       327474  469.045581    SPY  \n",
      "...                                ...         ...    ...  \n",
      "2022-11-02 04:00:00+00:00       864897  381.528192    SPY  \n",
      "2022-11-03 04:00:00+00:00       641406  372.172239    SPY  \n",
      "2022-11-04 04:00:00+00:00       703500  374.233909    SPY  \n",
      "2022-11-07 05:00:00+00:00       478350  378.306760    SPY  \n",
      "2022-11-08 05:00:00+00:00       598556  381.930966    SPY  \n",
      "\n",
      "[251 rows x 8 columns]\n"
     ]
    }
   ],
   "source": [
    "print(spy_price)"
   ]
  },
  {
   "cell_type": "code",
   "execution_count": 46,
   "id": "d36260ed-ff7e-48c1-9bb0-6cac47ce70ef",
   "metadata": {},
   "outputs": [
    {
     "data": {
      "text/plain": [
       "open           0\n",
       "high           0\n",
       "low            0\n",
       "close          0\n",
       "volume         0\n",
       "trade_count    0\n",
       "vwap           0\n",
       "symbol         0\n",
       "dtype: int64"
      ]
     },
     "execution_count": 46,
     "metadata": {},
     "output_type": "execute_result"
    }
   ],
   "source": [
    "spy_price.isnull().dropna().sum()"
   ]
  },
  {
   "cell_type": "code",
   "execution_count": 51,
   "id": "7b8a8ac6-bc50-40dc-98e2-6a3691fd3369",
   "metadata": {
    "tags": []
   },
   "outputs": [
    {
     "data": {
      "text/html": [
       "<div>\n",
       "<style scoped>\n",
       "    .dataframe tbody tr th:only-of-type {\n",
       "        vertical-align: middle;\n",
       "    }\n",
       "\n",
       "    .dataframe tbody tr th {\n",
       "        vertical-align: top;\n",
       "    }\n",
       "\n",
       "    .dataframe thead th {\n",
       "        text-align: right;\n",
       "    }\n",
       "</style>\n",
       "<table border=\"1\" class=\"dataframe\">\n",
       "  <thead>\n",
       "    <tr style=\"text-align: right;\">\n",
       "      <th></th>\n",
       "      <th>close</th>\n",
       "    </tr>\n",
       "    <tr>\n",
       "      <th>timestamp</th>\n",
       "      <th></th>\n",
       "    </tr>\n",
       "  </thead>\n",
       "  <tbody>\n",
       "    <tr>\n",
       "      <th>2021-11-10 05:00:00+00:00</th>\n",
       "      <td>463.62</td>\n",
       "    </tr>\n",
       "    <tr>\n",
       "      <th>2021-11-11 05:00:00+00:00</th>\n",
       "      <td>463.77</td>\n",
       "    </tr>\n",
       "    <tr>\n",
       "      <th>2021-11-12 05:00:00+00:00</th>\n",
       "      <td>467.27</td>\n",
       "    </tr>\n",
       "    <tr>\n",
       "      <th>2021-11-15 05:00:00+00:00</th>\n",
       "      <td>467.43</td>\n",
       "    </tr>\n",
       "    <tr>\n",
       "      <th>2021-11-16 05:00:00+00:00</th>\n",
       "      <td>469.28</td>\n",
       "    </tr>\n",
       "    <tr>\n",
       "      <th>...</th>\n",
       "      <td>...</td>\n",
       "    </tr>\n",
       "    <tr>\n",
       "      <th>2022-11-02 04:00:00+00:00</th>\n",
       "      <td>374.87</td>\n",
       "    </tr>\n",
       "    <tr>\n",
       "      <th>2022-11-03 04:00:00+00:00</th>\n",
       "      <td>371.01</td>\n",
       "    </tr>\n",
       "    <tr>\n",
       "      <th>2022-11-04 04:00:00+00:00</th>\n",
       "      <td>376.35</td>\n",
       "    </tr>\n",
       "    <tr>\n",
       "      <th>2022-11-07 05:00:00+00:00</th>\n",
       "      <td>379.95</td>\n",
       "    </tr>\n",
       "    <tr>\n",
       "      <th>2022-11-08 05:00:00+00:00</th>\n",
       "      <td>382.00</td>\n",
       "    </tr>\n",
       "  </tbody>\n",
       "</table>\n",
       "<p>251 rows × 1 columns</p>\n",
       "</div>"
      ],
      "text/plain": [
       "                            close\n",
       "timestamp                        \n",
       "2021-11-10 05:00:00+00:00  463.62\n",
       "2021-11-11 05:00:00+00:00  463.77\n",
       "2021-11-12 05:00:00+00:00  467.27\n",
       "2021-11-15 05:00:00+00:00  467.43\n",
       "2021-11-16 05:00:00+00:00  469.28\n",
       "...                           ...\n",
       "2022-11-02 04:00:00+00:00  374.87\n",
       "2022-11-03 04:00:00+00:00  371.01\n",
       "2022-11-04 04:00:00+00:00  376.35\n",
       "2022-11-07 05:00:00+00:00  379.95\n",
       "2022-11-08 05:00:00+00:00  382.00\n",
       "\n",
       "[251 rows x 1 columns]"
      ]
     },
     "execution_count": 51,
     "metadata": {},
     "output_type": "execute_result"
    }
   ],
   "source": [
    "spy_close = spy_price['close']\n",
    "spy_close.head()\n",
    "spy_df = pd.DataFrame(spy_close)\n",
    "spy_df"
   ]
  },
  {
   "cell_type": "code",
   "execution_count": 54,
   "id": "d7997a03-3791-4abb-b684-ce09cad842df",
   "metadata": {},
   "outputs": [
    {
     "data": {},
     "metadata": {},
     "output_type": "display_data"
    },
    {
     "data": {
      "application/vnd.holoviews_exec.v0+json": "",
      "text/html": [
       "<div id='1186'>\n",
       "  <div class=\"bk-root\" id=\"ec5fc878-9aa6-4eaf-b8f9-cb091a22734e\" data-root-id=\"1186\"></div>\n",
       "</div>\n",
       "<script type=\"application/javascript\">(function(root) {\n",
       "  function embed_document(root) {\n",
       "    var docs_json = {\"026ed177-bb2d-4fae-ad0b-370e61d381ff\":{\"defs\":[{\"extends\":null,\"module\":null,\"name\":\"ReactiveHTML1\",\"overrides\":[],\"properties\":[]},{\"extends\":null,\"module\":null,\"name\":\"FlexBox1\",\"overrides\":[],\"properties\":[{\"default\":\"flex-start\",\"kind\":null,\"name\":\"align_content\"},{\"default\":\"flex-start\",\"kind\":null,\"name\":\"align_items\"},{\"default\":\"row\",\"kind\":null,\"name\":\"flex_direction\"},{\"default\":\"wrap\",\"kind\":null,\"name\":\"flex_wrap\"},{\"default\":\"flex-start\",\"kind\":null,\"name\":\"justify_content\"}]},{\"extends\":null,\"module\":null,\"name\":\"GridStack1\",\"overrides\":[],\"properties\":[{\"default\":\"warn\",\"kind\":null,\"name\":\"mode\"},{\"default\":null,\"kind\":null,\"name\":\"ncols\"},{\"default\":null,\"kind\":null,\"name\":\"nrows\"},{\"default\":true,\"kind\":null,\"name\":\"allow_resize\"},{\"default\":true,\"kind\":null,\"name\":\"allow_drag\"},{\"default\":[],\"kind\":null,\"name\":\"state\"}]},{\"extends\":null,\"module\":null,\"name\":\"click1\",\"overrides\":[],\"properties\":[{\"default\":\"\",\"kind\":null,\"name\":\"terminal_output\"},{\"default\":\"\",\"kind\":null,\"name\":\"debug_name\"},{\"default\":0,\"kind\":null,\"name\":\"clears\"}]},{\"extends\":null,\"module\":null,\"name\":\"NotificationAreaBase1\",\"overrides\":[],\"properties\":[{\"default\":\"bottom-right\",\"kind\":null,\"name\":\"position\"},{\"default\":0,\"kind\":null,\"name\":\"_clear\"}]},{\"extends\":null,\"module\":null,\"name\":\"NotificationArea1\",\"overrides\":[],\"properties\":[{\"default\":[],\"kind\":null,\"name\":\"notifications\"},{\"default\":\"bottom-right\",\"kind\":null,\"name\":\"position\"},{\"default\":0,\"kind\":null,\"name\":\"_clear\"},{\"default\":[{\"background\":\"#ffc107\",\"icon\":{\"className\":\"fas fa-exclamation-triangle\",\"color\":\"white\",\"tagName\":\"i\"},\"type\":\"warning\"},{\"background\":\"#007bff\",\"icon\":{\"className\":\"fas fa-info-circle\",\"color\":\"white\",\"tagName\":\"i\"},\"type\":\"info\"}],\"kind\":null,\"name\":\"types\"}]},{\"extends\":null,\"module\":null,\"name\":\"Notification\",\"overrides\":[],\"properties\":[{\"default\":null,\"kind\":null,\"name\":\"background\"},{\"default\":3000,\"kind\":null,\"name\":\"duration\"},{\"default\":null,\"kind\":null,\"name\":\"icon\"},{\"default\":\"\",\"kind\":null,\"name\":\"message\"},{\"default\":null,\"kind\":null,\"name\":\"notification_type\"},{\"default\":false,\"kind\":null,\"name\":\"_destroyed\"}]},{\"extends\":null,\"module\":null,\"name\":\"TemplateActions1\",\"overrides\":[],\"properties\":[{\"default\":0,\"kind\":null,\"name\":\"open_modal\"},{\"default\":0,\"kind\":null,\"name\":\"close_modal\"}]},{\"extends\":null,\"module\":null,\"name\":\"MaterialTemplateActions1\",\"overrides\":[],\"properties\":[{\"default\":0,\"kind\":null,\"name\":\"open_modal\"},{\"default\":0,\"kind\":null,\"name\":\"close_modal\"}]}],\"roots\":{\"references\":[{\"attributes\":{\"margin\":[5,5,5,5],\"name\":\"HSpacer00983\",\"sizing_mode\":\"stretch_width\"},\"id\":\"1187\",\"type\":\"Spacer\"},{\"attributes\":{\"line_color\":\"#30a2da\",\"line_width\":2,\"x\":{\"field\":\"timestamp\"},\"y\":{\"field\":\"close\"}},\"id\":\"1229\",\"type\":\"Line\"},{\"attributes\":{},\"id\":\"1210\",\"type\":\"WheelZoomTool\"},{\"attributes\":{},\"id\":\"1209\",\"type\":\"PanTool\"},{\"attributes\":{},\"id\":\"1208\",\"type\":\"SaveTool\"},{\"attributes\":{\"coordinates\":null,\"data_source\":{\"id\":\"1221\"},\"glyph\":{\"id\":\"1224\"},\"group\":null,\"hover_glyph\":null,\"muted_glyph\":{\"id\":\"1226\"},\"nonselection_glyph\":{\"id\":\"1225\"},\"selection_glyph\":{\"id\":\"1229\"},\"view\":{\"id\":\"1228\"}},\"id\":\"1227\",\"type\":\"GlyphRenderer\"},{\"attributes\":{\"overlay\":{\"id\":\"1213\"}},\"id\":\"1211\",\"type\":\"BoxZoomTool\"},{\"attributes\":{\"mantissas\":[1,2,5],\"max_interval\":500.0,\"num_minor_ticks\":0},\"id\":\"1246\",\"type\":\"AdaptiveTicker\"},{\"attributes\":{},\"id\":\"1212\",\"type\":\"ResetTool\"},{\"attributes\":{\"bottom_units\":\"screen\",\"coordinates\":null,\"fill_alpha\":0.5,\"fill_color\":\"lightgrey\",\"group\":null,\"left_units\":\"screen\",\"level\":\"overlay\",\"line_alpha\":1.0,\"line_color\":\"black\",\"line_dash\":[4,4],\"line_width\":2,\"right_units\":\"screen\",\"syncable\":false,\"top_units\":\"screen\"},\"id\":\"1213\",\"type\":\"BoxAnnotation\"},{\"attributes\":{\"base\":60,\"mantissas\":[1,2,5,10,15,20,30],\"max_interval\":1800000.0,\"min_interval\":1000.0,\"num_minor_ticks\":0},\"id\":\"1247\",\"type\":\"AdaptiveTicker\"},{\"attributes\":{\"margin\":[5,5,5,5],\"name\":\"HSpacer00984\",\"sizing_mode\":\"stretch_width\"},\"id\":\"1258\",\"type\":\"Spacer\"},{\"attributes\":{\"base\":24,\"mantissas\":[1,2,4,6,8,12],\"max_interval\":43200000.0,\"min_interval\":3600000.0,\"num_minor_ticks\":0},\"id\":\"1248\",\"type\":\"AdaptiveTicker\"},{\"attributes\":{\"line_color\":\"#30a2da\",\"line_width\":2,\"x\":{\"field\":\"timestamp\"},\"y\":{\"field\":\"close\"}},\"id\":\"1224\",\"type\":\"Line\"},{\"attributes\":{},\"id\":\"1257\",\"type\":\"YearsTicker\"},{\"attributes\":{\"months\":[0,1,2,3,4,5,6,7,8,9,10,11]},\"id\":\"1253\",\"type\":\"MonthsTicker\"},{\"attributes\":{\"days\":[1,15]},\"id\":\"1252\",\"type\":\"DaysTicker\"},{\"attributes\":{\"days\":[1,2,3,4,5,6,7,8,9,10,11,12,13,14,15,16,17,18,19,20,21,22,23,24,25,26,27,28,29,30,31]},\"id\":\"1249\",\"type\":\"DaysTicker\"},{\"attributes\":{\"days\":[1,4,7,10,13,16,19,22,25,28]},\"id\":\"1250\",\"type\":\"DaysTicker\"},{\"attributes\":{},\"id\":\"1234\",\"type\":\"BasicTickFormatter\"},{\"attributes\":{\"days\":[1,8,15,22]},\"id\":\"1251\",\"type\":\"DaysTicker\"},{\"attributes\":{\"end\":1667883600000.0,\"reset_end\":1667883600000.0,\"reset_start\":1636520400000.0,\"start\":1636520400000.0,\"tags\":[[[\"timestamp\",\"timestamp\",null]]]},\"id\":\"1188\",\"type\":\"Range1d\"},{\"attributes\":{\"months\":[0,6]},\"id\":\"1256\",\"type\":\"MonthsTicker\"},{\"attributes\":{},\"id\":\"1196\",\"type\":\"LinearScale\"},{\"attributes\":{\"months\":[0,2,4,6,8,10]},\"id\":\"1254\",\"type\":\"MonthsTicker\"},{\"attributes\":{},\"id\":\"1232\",\"type\":\"AllLabels\"},{\"attributes\":{\"months\":[0,4,8]},\"id\":\"1255\",\"type\":\"MonthsTicker\"},{\"attributes\":{\"children\":[{\"id\":\"1187\"},{\"id\":\"1191\"},{\"id\":\"1258\"}],\"margin\":[0,0,0,0],\"name\":\"Row00979\",\"tags\":[\"embedded\"]},\"id\":\"1186\",\"type\":\"Row\"},{\"attributes\":{\"tools\":[{\"id\":\"1190\"},{\"id\":\"1208\"},{\"id\":\"1209\"},{\"id\":\"1210\"},{\"id\":\"1211\"},{\"id\":\"1212\"}]},\"id\":\"1214\",\"type\":\"Toolbar\"},{\"attributes\":{\"end\":489.825,\"reset_end\":489.825,\"reset_start\":344.445,\"start\":344.445,\"tags\":[[[\"close\",\"close\",null]]]},\"id\":\"1189\",\"type\":\"Range1d\"},{\"attributes\":{},\"id\":\"1243\",\"type\":\"UnionRenderers\"},{\"attributes\":{\"callback\":null,\"formatters\":{\"@{timestamp}\":\"datetime\"},\"renderers\":[{\"id\":\"1227\"}],\"tags\":[\"hv_created\"],\"tooltips\":[[\"timestamp\",\"@{timestamp}{%F %T}\"],[\"close\",\"@{close}\"]]},\"id\":\"1190\",\"type\":\"HoverTool\"},{\"attributes\":{\"line_alpha\":0.1,\"line_color\":\"#30a2da\",\"line_width\":2,\"x\":{\"field\":\"timestamp\"},\"y\":{\"field\":\"close\"}},\"id\":\"1225\",\"type\":\"Line\"},{\"attributes\":{\"data\":{\"close\":{\"__ndarray__\":\"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\",\"dtype\":\"float64\",\"order\":\"little\",\"shape\":[251]},\"timestamp\":{\"__ndarray__\":\"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\",\"dtype\":\"float64\",\"order\":\"little\",\"shape\":[251]}},\"selected\":{\"id\":\"1222\"},\"selection_policy\":{\"id\":\"1243\"}},\"id\":\"1221\",\"type\":\"ColumnDataSource\"},{\"attributes\":{},\"id\":\"1198\",\"type\":\"LinearScale\"},{\"attributes\":{},\"id\":\"1231\",\"type\":\"DatetimeTickFormatter\"},{\"attributes\":{\"line_alpha\":0.2,\"line_color\":\"#30a2da\",\"line_width\":2,\"x\":{\"field\":\"timestamp\"},\"y\":{\"field\":\"close\"}},\"id\":\"1226\",\"type\":\"Line\"},{\"attributes\":{\"coordinates\":null,\"group\":null,\"text\":\"SPY prices from the current year\",\"text_color\":\"black\",\"text_font_size\":\"12pt\"},\"id\":\"1192\",\"type\":\"Title\"},{\"attributes\":{\"axis\":{\"id\":\"1200\"},\"coordinates\":null,\"grid_line_color\":null,\"group\":null,\"ticker\":null},\"id\":\"1203\",\"type\":\"Grid\"},{\"attributes\":{\"below\":[{\"id\":\"1200\"}],\"center\":[{\"id\":\"1203\"},{\"id\":\"1207\"}],\"height\":300,\"left\":[{\"id\":\"1204\"}],\"margin\":[5,5,5,5],\"min_border_bottom\":10,\"min_border_left\":10,\"min_border_right\":10,\"min_border_top\":10,\"renderers\":[{\"id\":\"1227\"}],\"sizing_mode\":\"fixed\",\"title\":{\"id\":\"1192\"},\"toolbar\":{\"id\":\"1214\"},\"width\":700,\"x_range\":{\"id\":\"1188\"},\"x_scale\":{\"id\":\"1196\"},\"y_range\":{\"id\":\"1189\"},\"y_scale\":{\"id\":\"1198\"}},\"id\":\"1191\",\"subtype\":\"Figure\",\"type\":\"Plot\"},{\"attributes\":{\"axis_label\":\"timestamp\",\"coordinates\":null,\"formatter\":{\"id\":\"1231\"},\"group\":null,\"major_label_policy\":{\"id\":\"1232\"},\"ticker\":{\"id\":\"1201\"}},\"id\":\"1200\",\"type\":\"DatetimeAxis\"},{\"attributes\":{},\"id\":\"1222\",\"type\":\"Selection\"},{\"attributes\":{\"axis_label\":\"close\",\"coordinates\":null,\"formatter\":{\"id\":\"1234\"},\"group\":null,\"major_label_policy\":{\"id\":\"1235\"},\"ticker\":{\"id\":\"1205\"}},\"id\":\"1204\",\"type\":\"LinearAxis\"},{\"attributes\":{\"axis\":{\"id\":\"1204\"},\"coordinates\":null,\"dimension\":1,\"grid_line_color\":null,\"group\":null,\"ticker\":null},\"id\":\"1207\",\"type\":\"Grid\"},{\"attributes\":{\"source\":{\"id\":\"1221\"}},\"id\":\"1228\",\"type\":\"CDSView\"},{\"attributes\":{\"num_minor_ticks\":5,\"tickers\":[{\"id\":\"1246\"},{\"id\":\"1247\"},{\"id\":\"1248\"},{\"id\":\"1249\"},{\"id\":\"1250\"},{\"id\":\"1251\"},{\"id\":\"1252\"},{\"id\":\"1253\"},{\"id\":\"1254\"},{\"id\":\"1255\"},{\"id\":\"1256\"},{\"id\":\"1257\"}]},\"id\":\"1201\",\"type\":\"DatetimeTicker\"},{\"attributes\":{},\"id\":\"1235\",\"type\":\"AllLabels\"},{\"attributes\":{},\"id\":\"1205\",\"type\":\"BasicTicker\"}],\"root_ids\":[\"1186\"]},\"title\":\"Bokeh Application\",\"version\":\"2.4.3\"}};\n",
       "    var render_items = [{\"docid\":\"026ed177-bb2d-4fae-ad0b-370e61d381ff\",\"root_ids\":[\"1186\"],\"roots\":{\"1186\":\"ec5fc878-9aa6-4eaf-b8f9-cb091a22734e\"}}];\n",
       "    root.Bokeh.embed.embed_items_notebook(docs_json, render_items);\n",
       "  }\n",
       "  if (root.Bokeh !== undefined && root.Bokeh.Panel !== undefined) {\n",
       "    embed_document(root);\n",
       "  } else {\n",
       "    var attempts = 0;\n",
       "    var timer = setInterval(function(root) {\n",
       "      if (root.Bokeh !== undefined && root.Bokeh.Panel !== undefined) {\n",
       "        clearInterval(timer);\n",
       "        embed_document(root);\n",
       "      } else if (document.readyState == \"complete\") {\n",
       "        attempts++;\n",
       "        if (attempts > 200) {\n",
       "          clearInterval(timer);\n",
       "          console.log(\"Bokeh: ERROR: Unable to run BokehJS code because BokehJS library is missing\");\n",
       "        }\n",
       "      }\n",
       "    }, 25, root)\n",
       "  }\n",
       "})(window);</script>"
      ],
      "text/plain": [
       ":Curve   [timestamp]   (close)"
      ]
     },
     "execution_count": 54,
     "metadata": {
      "application/vnd.holoviews_exec.v0+json": {
       "id": "1186"
      }
     },
     "output_type": "execute_result"
    }
   ],
   "source": [
    "spy_df.hvplot(x='timestamp', y='close', title='SPY prices from the current year')"
   ]
  },
  {
   "cell_type": "code",
   "execution_count": 57,
   "id": "fab220f0-2bda-4124-b045-1ac46dfb4b1b",
   "metadata": {},
   "outputs": [
    {
     "name": "stdout",
     "output_type": "stream",
     "text": [
      "['aax', 'alpaca', 'ascendex', 'bequant', 'bibox', 'bigone', 'binance', 'binancecoinm', 'binanceus', 'binanceusdm', 'bit2c', 'bitbank', 'bitbay', 'bitbns', 'bitcoincom', 'bitfinex', 'bitfinex2', 'bitflyer', 'bitforex', 'bitget', 'bithumb', 'bitmart', 'bitmex', 'bitopro', 'bitpanda', 'bitrue', 'bitso', 'bitstamp', 'bitstamp1', 'bittrex', 'bitvavo', 'bkex', 'bl3p', 'blockchaincom', 'btcalpha', 'btcbox', 'btcex', 'btcmarkets', 'btctradeua', 'btcturk', 'buda', 'bw', 'bybit', 'bytetrade', 'cex', 'coinbase', 'coinbaseprime', 'coinbasepro', 'coincheck', 'coinex', 'coinfalcon', 'coinmate', 'coinone', 'coinspot', 'crex24', 'cryptocom', 'currencycom', 'delta', 'deribit', 'digifinex', 'exmo', 'flowbtc', 'fmfwio', 'ftx', 'ftxus', 'gate', 'gateio', 'gemini', 'hitbtc', 'hitbtc3', 'hollaex', 'huobi', 'huobijp', 'huobipro', 'idex', 'independentreserve', 'indodax', 'itbit', 'kraken', 'kucoin', 'kucoinfutures', 'kuna', 'latoken', 'lbank', 'lbank2', 'liquid', 'luno', 'lykke', 'mercado', 'mexc', 'mexc3', 'ndax', 'novadax', 'oceanex', 'okcoin', 'okex', 'okex5', 'okx', 'paymium', 'phemex', 'poloniex', 'probit', 'qtrade', 'ripio', 'stex', 'therock', 'tidebit', 'tidex', 'timex', 'tokocrypto', 'upbit', 'wavesexchange', 'wazirx', 'whitebit', 'woo', 'yobit', 'zaif', 'zb', 'zipmex', 'zonda']\n"
     ]
    }
   ],
   "source": [
    "print(ccxt.exchanges)"
   ]
  },
  {
   "cell_type": "code",
   "execution_count": 58,
   "id": "9686d527-b241-4db4-9acc-d1ced1fabe67",
   "metadata": {},
   "outputs": [
    {
     "data": {
      "text/plain": [
       "ccxt.binanceus()"
      ]
     },
     "execution_count": 58,
     "metadata": {},
     "output_type": "execute_result"
    }
   ],
   "source": [
    "# Getting connected to binanceus exchange, can change to any other exchange listed above. \n",
    "exchange_id = 'binanceus'\n",
    "exchange_class = getattr(ccxt, exchange_id)\n",
    "exchange = exchange_class({\n",
    "    'timeout':30000,\n",
    "    'enableRateLimit':True,\n",
    "})\n",
    "exchange"
   ]
  },
  {
   "cell_type": "code",
   "execution_count": 59,
   "id": "a38420d1-b02e-4589-99ea-866cc50f9509",
   "metadata": {},
   "outputs": [],
   "source": [
    "# Load markets into variable\n",
    "markets=exchange.load_markets()"
   ]
  },
  {
   "cell_type": "code",
   "execution_count": 60,
   "id": "899e5687-db37-4db3-bbbb-0b1ab489bf2c",
   "metadata": {},
   "outputs": [
    {
     "name": "stdout",
     "output_type": "stream",
     "text": [
      "BTC/USD\n",
      "BTC/USDT\n",
      "ETH/BTC\n",
      "XRP/BTC\n",
      "BNB/BTC\n",
      "LTC/BTC\n",
      "BCH/BTC\n",
      "BTC/BUSD\n",
      "XTZ/BTC\n",
      "ADA/BTC\n",
      "LINK/BTC\n",
      "VET/BTC\n",
      "UNI/BTC\n",
      "BTC/USDC\n",
      "SOL/BTC\n",
      "LRC/BTC\n",
      "POLY/BTC\n",
      "MATIC/BTC\n",
      "DOT/BTC\n",
      "MANA/BTC\n",
      "ATOM/BTC\n",
      "AVAX/BTC\n",
      "WBTC/BTC\n",
      "TRX/BTC\n",
      "BTC/UST\n"
     ]
    }
   ],
   "source": [
    "# print the BTC pairs that binanceus offers. \n",
    "for market in markets:\n",
    "    if 'BTC' in market:\n",
    "        print(market)"
   ]
  },
  {
   "cell_type": "code",
   "execution_count": 61,
   "id": "d23ae3fe-d783-4ac2-8ab6-f649cb3a097d",
   "metadata": {},
   "outputs": [],
   "source": [
    "# getting open high low close data for BTC from binance us, last 1000 hour candles. \n",
    "btc_ohlc = exchange.fetch_ohlcv('BTC/USD', timeframe='1h', limit=1000)\n",
    "#print(btc_ohlc)"
   ]
  },
  {
   "cell_type": "code",
   "execution_count": 62,
   "id": "c727dbc4-b4fa-4f5b-a3b0-155b7df5b87c",
   "metadata": {},
   "outputs": [
    {
     "data": {
      "text/html": [
       "<div>\n",
       "<style scoped>\n",
       "    .dataframe tbody tr th:only-of-type {\n",
       "        vertical-align: middle;\n",
       "    }\n",
       "\n",
       "    .dataframe tbody tr th {\n",
       "        vertical-align: top;\n",
       "    }\n",
       "\n",
       "    .dataframe thead th {\n",
       "        text-align: right;\n",
       "    }\n",
       "</style>\n",
       "<table border=\"1\" class=\"dataframe\">\n",
       "  <thead>\n",
       "    <tr style=\"text-align: right;\">\n",
       "      <th></th>\n",
       "      <th>Timestamp</th>\n",
       "      <th>Open</th>\n",
       "      <th>High</th>\n",
       "      <th>Low</th>\n",
       "      <th>Close</th>\n",
       "      <th>Volume</th>\n",
       "    </tr>\n",
       "  </thead>\n",
       "  <tbody>\n",
       "    <tr>\n",
       "      <th>0</th>\n",
       "      <td>1664442000000</td>\n",
       "      <td>19343.26</td>\n",
       "      <td>19504.52</td>\n",
       "      <td>19325.96</td>\n",
       "      <td>19479.56</td>\n",
       "      <td>273.508631</td>\n",
       "    </tr>\n",
       "    <tr>\n",
       "      <th>1</th>\n",
       "      <td>1664445600000</td>\n",
       "      <td>19480.00</td>\n",
       "      <td>19490.00</td>\n",
       "      <td>19412.10</td>\n",
       "      <td>19440.60</td>\n",
       "      <td>188.627596</td>\n",
       "    </tr>\n",
       "    <tr>\n",
       "      <th>2</th>\n",
       "      <td>1664449200000</td>\n",
       "      <td>19440.99</td>\n",
       "      <td>19547.85</td>\n",
       "      <td>19380.00</td>\n",
       "      <td>19466.23</td>\n",
       "      <td>340.420781</td>\n",
       "    </tr>\n",
       "    <tr>\n",
       "      <th>3</th>\n",
       "      <td>1664452800000</td>\n",
       "      <td>19466.23</td>\n",
       "      <td>19478.07</td>\n",
       "      <td>19130.69</td>\n",
       "      <td>19213.18</td>\n",
       "      <td>1095.319862</td>\n",
       "    </tr>\n",
       "    <tr>\n",
       "      <th>4</th>\n",
       "      <td>1664456400000</td>\n",
       "      <td>19213.18</td>\n",
       "      <td>19360.00</td>\n",
       "      <td>18907.10</td>\n",
       "      <td>18997.83</td>\n",
       "      <td>1109.211809</td>\n",
       "    </tr>\n",
       "    <tr>\n",
       "      <th>...</th>\n",
       "      <td>...</td>\n",
       "      <td>...</td>\n",
       "      <td>...</td>\n",
       "      <td>...</td>\n",
       "      <td>...</td>\n",
       "      <td>...</td>\n",
       "    </tr>\n",
       "    <tr>\n",
       "      <th>995</th>\n",
       "      <td>1668024000000</td>\n",
       "      <td>16762.42</td>\n",
       "      <td>16882.14</td>\n",
       "      <td>16107.48</td>\n",
       "      <td>16220.02</td>\n",
       "      <td>695.429671</td>\n",
       "    </tr>\n",
       "    <tr>\n",
       "      <th>996</th>\n",
       "      <td>1668027600000</td>\n",
       "      <td>16250.56</td>\n",
       "      <td>16261.20</td>\n",
       "      <td>15657.00</td>\n",
       "      <td>15744.56</td>\n",
       "      <td>874.461822</td>\n",
       "    </tr>\n",
       "    <tr>\n",
       "      <th>997</th>\n",
       "      <td>1668031200000</td>\n",
       "      <td>15740.00</td>\n",
       "      <td>16081.26</td>\n",
       "      <td>15567.00</td>\n",
       "      <td>15867.88</td>\n",
       "      <td>632.725213</td>\n",
       "    </tr>\n",
       "    <tr>\n",
       "      <th>998</th>\n",
       "      <td>1668034800000</td>\n",
       "      <td>15860.00</td>\n",
       "      <td>15947.97</td>\n",
       "      <td>15567.00</td>\n",
       "      <td>15891.72</td>\n",
       "      <td>718.023758</td>\n",
       "    </tr>\n",
       "    <tr>\n",
       "      <th>999</th>\n",
       "      <td>1668038400000</td>\n",
       "      <td>15887.31</td>\n",
       "      <td>16299.96</td>\n",
       "      <td>15727.64</td>\n",
       "      <td>16130.00</td>\n",
       "      <td>445.269042</td>\n",
       "    </tr>\n",
       "  </tbody>\n",
       "</table>\n",
       "<p>1000 rows × 6 columns</p>\n",
       "</div>"
      ],
      "text/plain": [
       "         Timestamp      Open      High       Low     Close       Volume\n",
       "0    1664442000000  19343.26  19504.52  19325.96  19479.56   273.508631\n",
       "1    1664445600000  19480.00  19490.00  19412.10  19440.60   188.627596\n",
       "2    1664449200000  19440.99  19547.85  19380.00  19466.23   340.420781\n",
       "3    1664452800000  19466.23  19478.07  19130.69  19213.18  1095.319862\n",
       "4    1664456400000  19213.18  19360.00  18907.10  18997.83  1109.211809\n",
       "..             ...       ...       ...       ...       ...          ...\n",
       "995  1668024000000  16762.42  16882.14  16107.48  16220.02   695.429671\n",
       "996  1668027600000  16250.56  16261.20  15657.00  15744.56   874.461822\n",
       "997  1668031200000  15740.00  16081.26  15567.00  15867.88   632.725213\n",
       "998  1668034800000  15860.00  15947.97  15567.00  15891.72   718.023758\n",
       "999  1668038400000  15887.31  16299.96  15727.64  16130.00   445.269042\n",
       "\n",
       "[1000 rows x 6 columns]"
      ]
     },
     "execution_count": 62,
     "metadata": {},
     "output_type": "execute_result"
    }
   ],
   "source": [
    "df_btc = pd.DataFrame(btc_ohlc,columns=['Timestamp','Open','High','Low','Close','Volume'])\n",
    "df_btc"
   ]
  },
  {
   "cell_type": "code",
   "execution_count": 63,
   "id": "048b592b-8b2c-4db8-a122-85ef51d3a849",
   "metadata": {},
   "outputs": [
    {
     "data": {
      "text/plain": [
       "Timestamp    0\n",
       "Open         0\n",
       "High         0\n",
       "Low          0\n",
       "Close        0\n",
       "Volume       0\n",
       "dtype: int64"
      ]
     },
     "execution_count": 63,
     "metadata": {},
     "output_type": "execute_result"
    }
   ],
   "source": [
    "df_btc.isnull().sum().dropna()"
   ]
  },
  {
   "cell_type": "code",
   "execution_count": 64,
   "id": "63254e0a-e82f-4a07-9611-ec42d421a29d",
   "metadata": {},
   "outputs": [
    {
     "data": {
      "text/plain": [
       "0    1664442000000\n",
       "1    1664445600000\n",
       "2    1664449200000\n",
       "3    1664452800000\n",
       "4    1664456400000\n",
       "Name: Timestamp, dtype: int64"
      ]
     },
     "execution_count": 64,
     "metadata": {},
     "output_type": "execute_result"
    }
   ],
   "source": [
    "df_btc['Timestamp'].head()"
   ]
  },
  {
   "cell_type": "code",
   "execution_count": 65,
   "id": "e01c2390-9cb4-4ed6-ab95-c43489bd1366",
   "metadata": {},
   "outputs": [],
   "source": [
    "# taken unix to datetime from firas pandas extra demo code\n",
    "def unix_to_date(unix):\n",
    "    return pd.to_datetime(unix, unit = \"ms\").tz_localize('UTC').tz_convert('US/Pacific')"
   ]
  },
  {
   "cell_type": "code",
   "execution_count": 66,
   "id": "3e8d3701-bf9b-4342-9006-6a9085c6b6ec",
   "metadata": {},
   "outputs": [],
   "source": [
    "# Clean unix timestamp to a human readable timestamp. \n",
    "df_btc['Timestamp']= df_btc['Timestamp'].apply(unix_to_date)"
   ]
  },
  {
   "cell_type": "code",
   "execution_count": 67,
   "id": "345e0bd8-674e-4a7d-b9ac-fbbda5672eed",
   "metadata": {},
   "outputs": [
    {
     "data": {
      "text/html": [
       "<div>\n",
       "<style scoped>\n",
       "    .dataframe tbody tr th:only-of-type {\n",
       "        vertical-align: middle;\n",
       "    }\n",
       "\n",
       "    .dataframe tbody tr th {\n",
       "        vertical-align: top;\n",
       "    }\n",
       "\n",
       "    .dataframe thead th {\n",
       "        text-align: right;\n",
       "    }\n",
       "</style>\n",
       "<table border=\"1\" class=\"dataframe\">\n",
       "  <thead>\n",
       "    <tr style=\"text-align: right;\">\n",
       "      <th></th>\n",
       "      <th>Timestamp</th>\n",
       "      <th>Open</th>\n",
       "      <th>High</th>\n",
       "      <th>Low</th>\n",
       "      <th>Close</th>\n",
       "      <th>Volume</th>\n",
       "    </tr>\n",
       "  </thead>\n",
       "  <tbody>\n",
       "    <tr>\n",
       "      <th>0</th>\n",
       "      <td>2022-09-29 02:00:00-07:00</td>\n",
       "      <td>19343.26</td>\n",
       "      <td>19504.52</td>\n",
       "      <td>19325.96</td>\n",
       "      <td>19479.56</td>\n",
       "      <td>273.508631</td>\n",
       "    </tr>\n",
       "    <tr>\n",
       "      <th>1</th>\n",
       "      <td>2022-09-29 03:00:00-07:00</td>\n",
       "      <td>19480.00</td>\n",
       "      <td>19490.00</td>\n",
       "      <td>19412.10</td>\n",
       "      <td>19440.60</td>\n",
       "      <td>188.627596</td>\n",
       "    </tr>\n",
       "    <tr>\n",
       "      <th>2</th>\n",
       "      <td>2022-09-29 04:00:00-07:00</td>\n",
       "      <td>19440.99</td>\n",
       "      <td>19547.85</td>\n",
       "      <td>19380.00</td>\n",
       "      <td>19466.23</td>\n",
       "      <td>340.420781</td>\n",
       "    </tr>\n",
       "    <tr>\n",
       "      <th>3</th>\n",
       "      <td>2022-09-29 05:00:00-07:00</td>\n",
       "      <td>19466.23</td>\n",
       "      <td>19478.07</td>\n",
       "      <td>19130.69</td>\n",
       "      <td>19213.18</td>\n",
       "      <td>1095.319862</td>\n",
       "    </tr>\n",
       "    <tr>\n",
       "      <th>4</th>\n",
       "      <td>2022-09-29 06:00:00-07:00</td>\n",
       "      <td>19213.18</td>\n",
       "      <td>19360.00</td>\n",
       "      <td>18907.10</td>\n",
       "      <td>18997.83</td>\n",
       "      <td>1109.211809</td>\n",
       "    </tr>\n",
       "    <tr>\n",
       "      <th>...</th>\n",
       "      <td>...</td>\n",
       "      <td>...</td>\n",
       "      <td>...</td>\n",
       "      <td>...</td>\n",
       "      <td>...</td>\n",
       "      <td>...</td>\n",
       "    </tr>\n",
       "    <tr>\n",
       "      <th>995</th>\n",
       "      <td>2022-11-09 12:00:00-08:00</td>\n",
       "      <td>16762.42</td>\n",
       "      <td>16882.14</td>\n",
       "      <td>16107.48</td>\n",
       "      <td>16220.02</td>\n",
       "      <td>695.429671</td>\n",
       "    </tr>\n",
       "    <tr>\n",
       "      <th>996</th>\n",
       "      <td>2022-11-09 13:00:00-08:00</td>\n",
       "      <td>16250.56</td>\n",
       "      <td>16261.20</td>\n",
       "      <td>15657.00</td>\n",
       "      <td>15744.56</td>\n",
       "      <td>874.461822</td>\n",
       "    </tr>\n",
       "    <tr>\n",
       "      <th>997</th>\n",
       "      <td>2022-11-09 14:00:00-08:00</td>\n",
       "      <td>15740.00</td>\n",
       "      <td>16081.26</td>\n",
       "      <td>15567.00</td>\n",
       "      <td>15867.88</td>\n",
       "      <td>632.725213</td>\n",
       "    </tr>\n",
       "    <tr>\n",
       "      <th>998</th>\n",
       "      <td>2022-11-09 15:00:00-08:00</td>\n",
       "      <td>15860.00</td>\n",
       "      <td>15947.97</td>\n",
       "      <td>15567.00</td>\n",
       "      <td>15891.72</td>\n",
       "      <td>718.023758</td>\n",
       "    </tr>\n",
       "    <tr>\n",
       "      <th>999</th>\n",
       "      <td>2022-11-09 16:00:00-08:00</td>\n",
       "      <td>15887.31</td>\n",
       "      <td>16299.96</td>\n",
       "      <td>15727.64</td>\n",
       "      <td>16130.00</td>\n",
       "      <td>445.269042</td>\n",
       "    </tr>\n",
       "  </tbody>\n",
       "</table>\n",
       "<p>1000 rows × 6 columns</p>\n",
       "</div>"
      ],
      "text/plain": [
       "                    Timestamp      Open      High       Low     Close  \\\n",
       "0   2022-09-29 02:00:00-07:00  19343.26  19504.52  19325.96  19479.56   \n",
       "1   2022-09-29 03:00:00-07:00  19480.00  19490.00  19412.10  19440.60   \n",
       "2   2022-09-29 04:00:00-07:00  19440.99  19547.85  19380.00  19466.23   \n",
       "3   2022-09-29 05:00:00-07:00  19466.23  19478.07  19130.69  19213.18   \n",
       "4   2022-09-29 06:00:00-07:00  19213.18  19360.00  18907.10  18997.83   \n",
       "..                        ...       ...       ...       ...       ...   \n",
       "995 2022-11-09 12:00:00-08:00  16762.42  16882.14  16107.48  16220.02   \n",
       "996 2022-11-09 13:00:00-08:00  16250.56  16261.20  15657.00  15744.56   \n",
       "997 2022-11-09 14:00:00-08:00  15740.00  16081.26  15567.00  15867.88   \n",
       "998 2022-11-09 15:00:00-08:00  15860.00  15947.97  15567.00  15891.72   \n",
       "999 2022-11-09 16:00:00-08:00  15887.31  16299.96  15727.64  16130.00   \n",
       "\n",
       "          Volume  \n",
       "0     273.508631  \n",
       "1     188.627596  \n",
       "2     340.420781  \n",
       "3    1095.319862  \n",
       "4    1109.211809  \n",
       "..           ...  \n",
       "995   695.429671  \n",
       "996   874.461822  \n",
       "997   632.725213  \n",
       "998   718.023758  \n",
       "999   445.269042  \n",
       "\n",
       "[1000 rows x 6 columns]"
      ]
     },
     "execution_count": 67,
     "metadata": {},
     "output_type": "execute_result"
    }
   ],
   "source": [
    "# Clean unix timestamp to a human readable timestamp. \n",
    "df_btc"
   ]
  },
  {
   "cell_type": "code",
   "execution_count": 68,
   "id": "65c76e5b-2f4e-4396-9a85-9323dd469d43",
   "metadata": {},
   "outputs": [
    {
     "data": {},
     "metadata": {},
     "output_type": "display_data"
    },
    {
     "data": {
      "application/vnd.holoviews_exec.v0+json": "",
      "text/html": [
       "<div id='1370'>\n",
       "  <div class=\"bk-root\" id=\"cc242b7c-e39f-44f5-9be9-b4c13051dda4\" data-root-id=\"1370\"></div>\n",
       "</div>\n",
       "<script type=\"application/javascript\">(function(root) {\n",
       "  function embed_document(root) {\n",
       "    var docs_json = {\"fd3325bf-eb9c-447f-83fb-b358fb904934\":{\"defs\":[{\"extends\":null,\"module\":null,\"name\":\"ReactiveHTML1\",\"overrides\":[],\"properties\":[]},{\"extends\":null,\"module\":null,\"name\":\"FlexBox1\",\"overrides\":[],\"properties\":[{\"default\":\"flex-start\",\"kind\":null,\"name\":\"align_content\"},{\"default\":\"flex-start\",\"kind\":null,\"name\":\"align_items\"},{\"default\":\"row\",\"kind\":null,\"name\":\"flex_direction\"},{\"default\":\"wrap\",\"kind\":null,\"name\":\"flex_wrap\"},{\"default\":\"flex-start\",\"kind\":null,\"name\":\"justify_content\"}]},{\"extends\":null,\"module\":null,\"name\":\"GridStack1\",\"overrides\":[],\"properties\":[{\"default\":\"warn\",\"kind\":null,\"name\":\"mode\"},{\"default\":null,\"kind\":null,\"name\":\"ncols\"},{\"default\":null,\"kind\":null,\"name\":\"nrows\"},{\"default\":true,\"kind\":null,\"name\":\"allow_resize\"},{\"default\":true,\"kind\":null,\"name\":\"allow_drag\"},{\"default\":[],\"kind\":null,\"name\":\"state\"}]},{\"extends\":null,\"module\":null,\"name\":\"click1\",\"overrides\":[],\"properties\":[{\"default\":\"\",\"kind\":null,\"name\":\"terminal_output\"},{\"default\":\"\",\"kind\":null,\"name\":\"debug_name\"},{\"default\":0,\"kind\":null,\"name\":\"clears\"}]},{\"extends\":null,\"module\":null,\"name\":\"NotificationAreaBase1\",\"overrides\":[],\"properties\":[{\"default\":\"bottom-right\",\"kind\":null,\"name\":\"position\"},{\"default\":0,\"kind\":null,\"name\":\"_clear\"}]},{\"extends\":null,\"module\":null,\"name\":\"NotificationArea1\",\"overrides\":[],\"properties\":[{\"default\":[],\"kind\":null,\"name\":\"notifications\"},{\"default\":\"bottom-right\",\"kind\":null,\"name\":\"position\"},{\"default\":0,\"kind\":null,\"name\":\"_clear\"},{\"default\":[{\"background\":\"#ffc107\",\"icon\":{\"className\":\"fas fa-exclamation-triangle\",\"color\":\"white\",\"tagName\":\"i\"},\"type\":\"warning\"},{\"background\":\"#007bff\",\"icon\":{\"className\":\"fas fa-info-circle\",\"color\":\"white\",\"tagName\":\"i\"},\"type\":\"info\"}],\"kind\":null,\"name\":\"types\"}]},{\"extends\":null,\"module\":null,\"name\":\"Notification\",\"overrides\":[],\"properties\":[{\"default\":null,\"kind\":null,\"name\":\"background\"},{\"default\":3000,\"kind\":null,\"name\":\"duration\"},{\"default\":null,\"kind\":null,\"name\":\"icon\"},{\"default\":\"\",\"kind\":null,\"name\":\"message\"},{\"default\":null,\"kind\":null,\"name\":\"notification_type\"},{\"default\":false,\"kind\":null,\"name\":\"_destroyed\"}]},{\"extends\":null,\"module\":null,\"name\":\"TemplateActions1\",\"overrides\":[],\"properties\":[{\"default\":0,\"kind\":null,\"name\":\"open_modal\"},{\"default\":0,\"kind\":null,\"name\":\"close_modal\"}]},{\"extends\":null,\"module\":null,\"name\":\"MaterialTemplateActions1\",\"overrides\":[],\"properties\":[{\"default\":0,\"kind\":null,\"name\":\"open_modal\"},{\"default\":0,\"kind\":null,\"name\":\"close_modal\"}]}],\"roots\":{\"references\":[{\"attributes\":{},\"id\":\"1418\",\"type\":\"BasicTickFormatter\"},{\"attributes\":{},\"id\":\"1419\",\"type\":\"AllLabels\"},{\"attributes\":{\"source\":{\"id\":\"1405\"}},\"id\":\"1412\",\"type\":\"CDSView\"},{\"attributes\":{\"end\":22015.759000000002,\"reset_end\":22015.759000000002,\"reset_start\":15174.451,\"start\":15174.451,\"tags\":[[[\"Close\",\"Close\",null]]]},\"id\":\"1373\",\"type\":\"Range1d\"},{\"attributes\":{\"mantissas\":[1,2,5],\"max_interval\":500.0,\"num_minor_ticks\":0},\"id\":\"1430\",\"type\":\"AdaptiveTicker\"},{\"attributes\":{\"coordinates\":null,\"data_source\":{\"id\":\"1405\"},\"glyph\":{\"id\":\"1408\"},\"group\":null,\"hover_glyph\":null,\"muted_glyph\":{\"id\":\"1410\"},\"nonselection_glyph\":{\"id\":\"1409\"},\"selection_glyph\":{\"id\":\"1413\"},\"view\":{\"id\":\"1412\"}},\"id\":\"1411\",\"type\":\"GlyphRenderer\"},{\"attributes\":{\"callback\":null,\"formatters\":{\"@{Timestamp}\":\"datetime\"},\"renderers\":[{\"id\":\"1411\"}],\"tags\":[\"hv_created\"],\"tooltips\":[[\"Timestamp\",\"@{Timestamp}{%F %T}\"],[\"Close\",\"@{Close}\"]]},\"id\":\"1374\",\"type\":\"HoverTool\"},{\"attributes\":{\"base\":60,\"mantissas\":[1,2,5,10,15,20,30],\"max_interval\":1800000.0,\"min_interval\":1000.0,\"num_minor_ticks\":0},\"id\":\"1431\",\"type\":\"AdaptiveTicker\"},{\"attributes\":{\"bottom_units\":\"screen\",\"coordinates\":null,\"fill_alpha\":0.5,\"fill_color\":\"lightgrey\",\"group\":null,\"left_units\":\"screen\",\"level\":\"overlay\",\"line_alpha\":1.0,\"line_color\":\"black\",\"line_dash\":[4,4],\"line_width\":2,\"right_units\":\"screen\",\"syncable\":false,\"top_units\":\"screen\"},\"id\":\"1397\",\"type\":\"BoxAnnotation\"},{\"attributes\":{},\"id\":\"1382\",\"type\":\"LinearScale\"},{\"attributes\":{\"base\":24,\"mantissas\":[1,2,4,6,8,12],\"max_interval\":43200000.0,\"min_interval\":3600000.0,\"num_minor_ticks\":0},\"id\":\"1432\",\"type\":\"AdaptiveTicker\"},{\"attributes\":{},\"id\":\"1441\",\"type\":\"YearsTicker\"},{\"attributes\":{},\"id\":\"1393\",\"type\":\"PanTool\"},{\"attributes\":{},\"id\":\"1416\",\"type\":\"AllLabels\"},{\"attributes\":{\"months\":[0,1,2,3,4,5,6,7,8,9,10,11]},\"id\":\"1437\",\"type\":\"MonthsTicker\"},{\"attributes\":{\"coordinates\":null,\"group\":null,\"text\":\"BTC prices from Binanceus, last 1000 hours\",\"text_color\":\"black\",\"text_font_size\":\"12pt\"},\"id\":\"1376\",\"type\":\"Title\"},{\"attributes\":{\"days\":[1,15]},\"id\":\"1436\",\"type\":\"DaysTicker\"},{\"attributes\":{\"axis\":{\"id\":\"1384\"},\"coordinates\":null,\"grid_line_color\":null,\"group\":null,\"ticker\":null},\"id\":\"1387\",\"type\":\"Grid\"},{\"attributes\":{},\"id\":\"1415\",\"type\":\"DatetimeTickFormatter\"},{\"attributes\":{\"days\":[1,2,3,4,5,6,7,8,9,10,11,12,13,14,15,16,17,18,19,20,21,22,23,24,25,26,27,28,29,30,31]},\"id\":\"1433\",\"type\":\"DaysTicker\"},{\"attributes\":{\"margin\":[5,5,5,5],\"name\":\"HSpacer01092\",\"sizing_mode\":\"stretch_width\"},\"id\":\"1371\",\"type\":\"Spacer\"},{\"attributes\":{\"axis_label\":\"Timestamp\",\"coordinates\":null,\"formatter\":{\"id\":\"1415\"},\"group\":null,\"major_label_policy\":{\"id\":\"1416\"},\"ticker\":{\"id\":\"1385\"}},\"id\":\"1384\",\"type\":\"DatetimeAxis\"},{\"attributes\":{\"days\":[1,4,7,10,13,16,19,22,25,28]},\"id\":\"1434\",\"type\":\"DaysTicker\"},{\"attributes\":{\"children\":[{\"id\":\"1371\"},{\"id\":\"1375\"},{\"id\":\"1442\"}],\"margin\":[0,0,0,0],\"name\":\"Row01088\",\"tags\":[\"embedded\"]},\"id\":\"1370\",\"type\":\"Row\"},{\"attributes\":{\"axis_label\":\"Close\",\"coordinates\":null,\"formatter\":{\"id\":\"1418\"},\"group\":null,\"major_label_policy\":{\"id\":\"1419\"},\"ticker\":{\"id\":\"1389\"}},\"id\":\"1388\",\"type\":\"LinearAxis\"},{\"attributes\":{\"days\":[1,8,15,22]},\"id\":\"1435\",\"type\":\"DaysTicker\"},{\"attributes\":{\"months\":[0,6]},\"id\":\"1440\",\"type\":\"MonthsTicker\"},{\"attributes\":{\"num_minor_ticks\":5,\"tickers\":[{\"id\":\"1430\"},{\"id\":\"1431\"},{\"id\":\"1432\"},{\"id\":\"1433\"},{\"id\":\"1434\"},{\"id\":\"1435\"},{\"id\":\"1436\"},{\"id\":\"1437\"},{\"id\":\"1438\"},{\"id\":\"1439\"},{\"id\":\"1440\"},{\"id\":\"1441\"}]},\"id\":\"1385\",\"type\":\"DatetimeTicker\"},{\"attributes\":{\"months\":[0,2,4,6,8,10]},\"id\":\"1438\",\"type\":\"MonthsTicker\"},{\"attributes\":{\"tools\":[{\"id\":\"1374\"},{\"id\":\"1392\"},{\"id\":\"1393\"},{\"id\":\"1394\"},{\"id\":\"1395\"},{\"id\":\"1396\"}]},\"id\":\"1398\",\"type\":\"Toolbar\"},{\"attributes\":{\"below\":[{\"id\":\"1384\"}],\"center\":[{\"id\":\"1387\"},{\"id\":\"1391\"}],\"height\":300,\"left\":[{\"id\":\"1388\"}],\"margin\":[5,5,5,5],\"min_border_bottom\":10,\"min_border_left\":10,\"min_border_right\":10,\"min_border_top\":10,\"renderers\":[{\"id\":\"1411\"}],\"sizing_mode\":\"fixed\",\"title\":{\"id\":\"1376\"},\"toolbar\":{\"id\":\"1398\"},\"width\":700,\"x_range\":{\"id\":\"1372\"},\"x_scale\":{\"id\":\"1380\"},\"y_range\":{\"id\":\"1373\"},\"y_scale\":{\"id\":\"1382\"}},\"id\":\"1375\",\"subtype\":\"Figure\",\"type\":\"Plot\"},{\"attributes\":{\"axis\":{\"id\":\"1388\"},\"coordinates\":null,\"dimension\":1,\"grid_line_color\":null,\"group\":null,\"ticker\":null},\"id\":\"1391\",\"type\":\"Grid\"},{\"attributes\":{\"months\":[0,4,8]},\"id\":\"1439\",\"type\":\"MonthsTicker\"},{\"attributes\":{},\"id\":\"1389\",\"type\":\"BasicTicker\"},{\"attributes\":{},\"id\":\"1394\",\"type\":\"WheelZoomTool\"},{\"attributes\":{\"line_color\":\"#30a2da\",\"line_width\":2,\"x\":{\"field\":\"Timestamp\"},\"y\":{\"field\":\"Close\"}},\"id\":\"1413\",\"type\":\"Line\"},{\"attributes\":{\"line_color\":\"#30a2da\",\"line_width\":2,\"x\":{\"field\":\"Timestamp\"},\"y\":{\"field\":\"Close\"}},\"id\":\"1408\",\"type\":\"Line\"},{\"attributes\":{},\"id\":\"1427\",\"type\":\"UnionRenderers\"},{\"attributes\":{},\"id\":\"1392\",\"type\":\"SaveTool\"},{\"attributes\":{\"overlay\":{\"id\":\"1397\"}},\"id\":\"1395\",\"type\":\"BoxZoomTool\"},{\"attributes\":{},\"id\":\"1396\",\"type\":\"ResetTool\"},{\"attributes\":{\"line_alpha\":0.2,\"line_color\":\"#30a2da\",\"line_width\":2,\"x\":{\"field\":\"Timestamp\"},\"y\":{\"field\":\"Close\"}},\"id\":\"1410\",\"type\":\"Line\"},{\"attributes\":{\"line_alpha\":0.1,\"line_color\":\"#30a2da\",\"line_width\":2,\"x\":{\"field\":\"Timestamp\"},\"y\":{\"field\":\"Close\"}},\"id\":\"1409\",\"type\":\"Line\"},{\"attributes\":{\"margin\":[5,5,5,5],\"name\":\"HSpacer01093\",\"sizing_mode\":\"stretch_width\"},\"id\":\"1442\",\"type\":\"Spacer\"},{\"attributes\":{},\"id\":\"1406\",\"type\":\"Selection\"},{\"attributes\":{\"data\":{\"Close\":{\"__ndarray__\":\"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\",\"dtype\":\"float64\",\"order\":\"little\",\"shape\":[1000]},\"Timestamp\":{\"__ndarray__\":\"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\",\"dtype\":\"float64\",\"order\":\"little\",\"shape\":[1000]}},\"selected\":{\"id\":\"1406\"},\"selection_policy\":{\"id\":\"1427\"}},\"id\":\"1405\",\"type\":\"ColumnDataSource\"},{\"attributes\":{},\"id\":\"1380\",\"type\":\"LinearScale\"},{\"attributes\":{\"end\":1668009600000.0,\"reset_end\":1668009600000.0,\"reset_start\":1664416800000.0,\"start\":1664416800000.0,\"tags\":[[[\"Timestamp\",\"Timestamp\",null]]]},\"id\":\"1372\",\"type\":\"Range1d\"}],\"root_ids\":[\"1370\"]},\"title\":\"Bokeh Application\",\"version\":\"2.4.3\"}};\n",
       "    var render_items = [{\"docid\":\"fd3325bf-eb9c-447f-83fb-b358fb904934\",\"root_ids\":[\"1370\"],\"roots\":{\"1370\":\"cc242b7c-e39f-44f5-9be9-b4c13051dda4\"}}];\n",
       "    root.Bokeh.embed.embed_items_notebook(docs_json, render_items);\n",
       "  }\n",
       "  if (root.Bokeh !== undefined && root.Bokeh.Panel !== undefined) {\n",
       "    embed_document(root);\n",
       "  } else {\n",
       "    var attempts = 0;\n",
       "    var timer = setInterval(function(root) {\n",
       "      if (root.Bokeh !== undefined && root.Bokeh.Panel !== undefined) {\n",
       "        clearInterval(timer);\n",
       "        embed_document(root);\n",
       "      } else if (document.readyState == \"complete\") {\n",
       "        attempts++;\n",
       "        if (attempts > 200) {\n",
       "          clearInterval(timer);\n",
       "          console.log(\"Bokeh: ERROR: Unable to run BokehJS code because BokehJS library is missing\");\n",
       "        }\n",
       "      }\n",
       "    }, 25, root)\n",
       "  }\n",
       "})(window);</script>"
      ],
      "text/plain": [
       ":Curve   [Timestamp]   (Close)"
      ]
     },
     "execution_count": 68,
     "metadata": {
      "application/vnd.holoviews_exec.v0+json": {
       "id": "1370"
      }
     },
     "output_type": "execute_result"
    }
   ],
   "source": [
    "df_btc.hvplot(x='Timestamp', y='Close', title='BTC prices from Binanceus, last 1000 hours')"
   ]
  },
  {
   "cell_type": "code",
   "execution_count": null,
   "id": "91d34438-d5a3-4e58-b1e6-1693a0da48d6",
   "metadata": {},
   "outputs": [],
   "source": []
  }
 ],
 "metadata": {
  "kernelspec": {
   "display_name": "Python 3 (ipykernel)",
   "language": "python",
   "name": "python3"
  },
  "language_info": {
   "codemirror_mode": {
    "name": "ipython",
    "version": 3
   },
   "file_extension": ".py",
   "mimetype": "text/x-python",
   "name": "python",
   "nbconvert_exporter": "python",
   "pygments_lexer": "ipython3",
   "version": "3.9.12"
  },
  "vscode": {
   "interpreter": {
    "hash": "31f2aee4e71d21fbe5cf8b01ff0e069b9275f58929596ceb00d14d90e3e16cd6"
   }
  }
 },
 "nbformat": 4,
 "nbformat_minor": 5
}
