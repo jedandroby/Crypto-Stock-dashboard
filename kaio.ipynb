{
 "cells": [
  {
   "cell_type": "code",
   "execution_count": 4,
   "id": "de15a933",
   "metadata": {
    "scrolled": true
   },
   "outputs": [
    {
     "name": "stdout",
     "output_type": "stream",
     "text": [
      "Collecting ccxt\n",
      "  Using cached ccxt-2.1.55-py2.py3-none-any.whl (3.5 MB)\n",
      "Collecting aiodns>=1.1.1\n",
      "  Using cached aiodns-3.0.0-py3-none-any.whl (5.0 kB)\n",
      "Requirement already satisfied: cryptography>=2.6.1 in /Users/kaiofadul/opt/anaconda3/envs/dev/lib/python3.7/site-packages (from ccxt) (3.4.8)\n",
      "Requirement already satisfied: setuptools>=60.9.0 in /Users/kaiofadul/opt/anaconda3/envs/dev/lib/python3.7/site-packages (from ccxt) (61.2.0)\n",
      "Collecting yarl>=1.7.2\n",
      "  Downloading yarl-1.8.1-cp37-cp37m-macosx_10_9_x86_64.whl (60 kB)\n",
      "\u001b[K     |████████████████████████████████| 60 kB 2.5 MB/s eta 0:00:01\n",
      "\u001b[?25hRequirement already satisfied: certifi>=2018.1.18 in /Users/kaiofadul/opt/anaconda3/envs/dev/lib/python3.7/site-packages (from ccxt) (2022.9.24)\n",
      "Requirement already satisfied: aiohttp>=3.8 in /Users/kaiofadul/opt/anaconda3/envs/dev/lib/python3.7/site-packages (from ccxt) (3.8.1)\n",
      "Requirement already satisfied: requests>=2.18.4 in /Users/kaiofadul/opt/anaconda3/envs/dev/lib/python3.7/site-packages (from ccxt) (2.27.1)\n",
      "Collecting pycares>=4.0.0\n",
      "  Downloading pycares-4.2.2-cp37-cp37m-macosx_10_9_x86_64.whl (75 kB)\n",
      "\u001b[K     |████████████████████████████████| 75 kB 7.6 MB/s eta 0:00:01\n",
      "\u001b[?25hRequirement already satisfied: async-timeout<5.0,>=4.0.0a3 in /Users/kaiofadul/opt/anaconda3/envs/dev/lib/python3.7/site-packages (from aiohttp>=3.8->ccxt) (4.0.1)\n",
      "Requirement already satisfied: multidict<7.0,>=4.5 in /Users/kaiofadul/opt/anaconda3/envs/dev/lib/python3.7/site-packages (from aiohttp>=3.8->ccxt) (5.2.0)\n",
      "Requirement already satisfied: typing-extensions>=3.7.4 in /Users/kaiofadul/opt/anaconda3/envs/dev/lib/python3.7/site-packages (from aiohttp>=3.8->ccxt) (4.1.1)\n",
      "Requirement already satisfied: asynctest==0.13.0 in /Users/kaiofadul/opt/anaconda3/envs/dev/lib/python3.7/site-packages (from aiohttp>=3.8->ccxt) (0.13.0)\n",
      "Requirement already satisfied: frozenlist>=1.1.1 in /Users/kaiofadul/opt/anaconda3/envs/dev/lib/python3.7/site-packages (from aiohttp>=3.8->ccxt) (1.2.0)\n",
      "Requirement already satisfied: charset-normalizer<3.0,>=2.0 in /Users/kaiofadul/opt/anaconda3/envs/dev/lib/python3.7/site-packages (from aiohttp>=3.8->ccxt) (2.0.4)\n",
      "Requirement already satisfied: aiosignal>=1.1.2 in /Users/kaiofadul/opt/anaconda3/envs/dev/lib/python3.7/site-packages (from aiohttp>=3.8->ccxt) (1.2.0)\n",
      "Requirement already satisfied: attrs>=17.3.0 in /Users/kaiofadul/opt/anaconda3/envs/dev/lib/python3.7/site-packages (from aiohttp>=3.8->ccxt) (21.4.0)\n",
      "Requirement already satisfied: cffi>=1.12 in /Users/kaiofadul/opt/anaconda3/envs/dev/lib/python3.7/site-packages (from cryptography>=2.6.1->ccxt) (1.15.0)\n",
      "Requirement already satisfied: pycparser in /Users/kaiofadul/opt/anaconda3/envs/dev/lib/python3.7/site-packages (from cffi>=1.12->cryptography>=2.6.1->ccxt) (2.21)\n",
      "Requirement already satisfied: idna<4,>=2.5 in /Users/kaiofadul/opt/anaconda3/envs/dev/lib/python3.7/site-packages (from requests>=2.18.4->ccxt) (3.3)\n",
      "Requirement already satisfied: urllib3<1.27,>=1.21.1 in /Users/kaiofadul/opt/anaconda3/envs/dev/lib/python3.7/site-packages (from requests>=2.18.4->ccxt) (1.26.9)\n",
      "Installing collected packages: yarl, pycares, aiodns, ccxt\n",
      "  Attempting uninstall: yarl\n",
      "    Found existing installation: yarl 1.5.1\n",
      "    Uninstalling yarl-1.5.1:\n",
      "      Successfully uninstalled yarl-1.5.1\n",
      "Successfully installed aiodns-3.0.0 ccxt-2.1.55 pycares-4.2.2 yarl-1.8.1\n",
      "Note: you may need to restart the kernel to use updated packages.\n"
     ]
    }
   ],
   "source": [
    "%pip install ccxt"
   ]
  },
  {
   "cell_type": "code",
   "execution_count": 58,
   "id": "7a5af0db-799a-4f8f-a405-2a3df396aada",
   "metadata": {},
   "outputs": [],
   "source": [
    "import ccxt\n",
    "# jupyter lab --NotebookApp.iopub_data_rate_limit=1.0e10 - this command is required to run when opening jupyter labs or ccxt wont work in jupyter. or configure a config file.\n",
    "import pandas as pd\n",
    "import hvplot.pandas\n",
    "# from dotenv import load_dotenv\n",
    "import alpaca_trade_api as tradeapi\n",
    "import sqlalchemy as sql\n",
    "import sys\n",
    "from datetime import datetime"
   ]
  },
  {
   "cell_type": "code",
   "execution_count": 2,
   "id": "4e10aef7-1577-4765-8395-fa80725a7859",
   "metadata": {},
   "outputs": [],
   "source": [
    "ALPACA_API_KEY = 'PK2BWJQC7W7Z3C87TKI6'\n",
    "ALPACA_SECRET_KEY = 'qox7s7aZ70L9yAp8HS6Kz0JXngu6a20ikuD3EmCq'"
   ]
  },
  {
   "cell_type": "code",
   "execution_count": 43,
   "id": "84a1d196-e337-4d4b-9079-0b15265c8730",
   "metadata": {},
   "outputs": [
    {
     "data": {
      "text/html": [
       "<div>\n",
       "<style scoped>\n",
       "    .dataframe tbody tr th:only-of-type {\n",
       "        vertical-align: middle;\n",
       "    }\n",
       "\n",
       "    .dataframe tbody tr th {\n",
       "        vertical-align: top;\n",
       "    }\n",
       "\n",
       "    .dataframe thead th {\n",
       "        text-align: right;\n",
       "    }\n",
       "</style>\n",
       "<table border=\"1\" class=\"dataframe\">\n",
       "  <thead>\n",
       "    <tr style=\"text-align: right;\">\n",
       "      <th></th>\n",
       "      <th>open</th>\n",
       "      <th>high</th>\n",
       "      <th>low</th>\n",
       "      <th>close</th>\n",
       "      <th>volume</th>\n",
       "    </tr>\n",
       "    <tr>\n",
       "      <th>timestamp</th>\n",
       "      <th></th>\n",
       "      <th></th>\n",
       "      <th></th>\n",
       "      <th></th>\n",
       "      <th></th>\n",
       "    </tr>\n",
       "  </thead>\n",
       "  <tbody>\n",
       "    <tr>\n",
       "      <th>2020-02-14 05:00:00+00:00</th>\n",
       "      <td>337.5100</td>\n",
       "      <td>337.7300</td>\n",
       "      <td>336.2000</td>\n",
       "      <td>337.60</td>\n",
       "      <td>64582210</td>\n",
       "    </tr>\n",
       "    <tr>\n",
       "      <th>2020-02-18 05:00:00+00:00</th>\n",
       "      <td>336.5100</td>\n",
       "      <td>337.6677</td>\n",
       "      <td>335.2100</td>\n",
       "      <td>336.73</td>\n",
       "      <td>57342526</td>\n",
       "    </tr>\n",
       "    <tr>\n",
       "      <th>2020-02-19 05:00:00+00:00</th>\n",
       "      <td>337.7900</td>\n",
       "      <td>339.0800</td>\n",
       "      <td>337.4800</td>\n",
       "      <td>338.32</td>\n",
       "      <td>48814692</td>\n",
       "    </tr>\n",
       "    <tr>\n",
       "      <th>2020-02-20 05:00:00+00:00</th>\n",
       "      <td>337.7423</td>\n",
       "      <td>338.6400</td>\n",
       "      <td>333.6817</td>\n",
       "      <td>336.99</td>\n",
       "      <td>74170362</td>\n",
       "    </tr>\n",
       "    <tr>\n",
       "      <th>2020-02-21 05:00:00+00:00</th>\n",
       "      <td>335.4700</td>\n",
       "      <td>335.8100</td>\n",
       "      <td>332.5800</td>\n",
       "      <td>333.45</td>\n",
       "      <td>113788208</td>\n",
       "    </tr>\n",
       "    <tr>\n",
       "      <th>...</th>\n",
       "      <td>...</td>\n",
       "      <td>...</td>\n",
       "      <td>...</td>\n",
       "      <td>...</td>\n",
       "      <td>...</td>\n",
       "    </tr>\n",
       "    <tr>\n",
       "      <th>2022-11-03 04:00:00+00:00</th>\n",
       "      <td>371.4650</td>\n",
       "      <td>374.2000</td>\n",
       "      <td>368.7900</td>\n",
       "      <td>371.01</td>\n",
       "      <td>85657400</td>\n",
       "    </tr>\n",
       "    <tr>\n",
       "      <th>2022-11-04 04:00:00+00:00</th>\n",
       "      <td>377.0000</td>\n",
       "      <td>378.8700</td>\n",
       "      <td>370.0000</td>\n",
       "      <td>376.35</td>\n",
       "      <td>103253613</td>\n",
       "    </tr>\n",
       "    <tr>\n",
       "      <th>2022-11-07 05:00:00+00:00</th>\n",
       "      <td>377.7100</td>\n",
       "      <td>380.5700</td>\n",
       "      <td>375.5300</td>\n",
       "      <td>379.95</td>\n",
       "      <td>68127819</td>\n",
       "    </tr>\n",
       "    <tr>\n",
       "      <th>2022-11-08 05:00:00+00:00</th>\n",
       "      <td>381.1100</td>\n",
       "      <td>385.1200</td>\n",
       "      <td>377.7200</td>\n",
       "      <td>382.00</td>\n",
       "      <td>84098301</td>\n",
       "    </tr>\n",
       "    <tr>\n",
       "      <th>2022-11-09 05:00:00+00:00</th>\n",
       "      <td>379.9300</td>\n",
       "      <td>381.1400</td>\n",
       "      <td>373.6100</td>\n",
       "      <td>374.13</td>\n",
       "      <td>77996412</td>\n",
       "    </tr>\n",
       "  </tbody>\n",
       "</table>\n",
       "<p>691 rows × 5 columns</p>\n",
       "</div>"
      ],
      "text/plain": [
       "                               open      high       low   close     volume\n",
       "timestamp                                                                 \n",
       "2020-02-14 05:00:00+00:00  337.5100  337.7300  336.2000  337.60   64582210\n",
       "2020-02-18 05:00:00+00:00  336.5100  337.6677  335.2100  336.73   57342526\n",
       "2020-02-19 05:00:00+00:00  337.7900  339.0800  337.4800  338.32   48814692\n",
       "2020-02-20 05:00:00+00:00  337.7423  338.6400  333.6817  336.99   74170362\n",
       "2020-02-21 05:00:00+00:00  335.4700  335.8100  332.5800  333.45  113788208\n",
       "...                             ...       ...       ...     ...        ...\n",
       "2022-11-03 04:00:00+00:00  371.4650  374.2000  368.7900  371.01   85657400\n",
       "2022-11-04 04:00:00+00:00  377.0000  378.8700  370.0000  376.35  103253613\n",
       "2022-11-07 05:00:00+00:00  377.7100  380.5700  375.5300  379.95   68127819\n",
       "2022-11-08 05:00:00+00:00  381.1100  385.1200  377.7200  382.00   84098301\n",
       "2022-11-09 05:00:00+00:00  379.9300  381.1400  373.6100  374.13   77996412\n",
       "\n",
       "[691 rows x 5 columns]"
      ]
     },
     "execution_count": 43,
     "metadata": {},
     "output_type": "execute_result"
    }
   ],
   "source": [
    "# # Set the variables for the Alpaca API and secret keys\n",
    "# alpaca_api_key=os.getenv(ALPACA_API_KEY)\n",
    "# # Create the Alpaca tradeapi.REST object\n",
    "# alpaca_secret_key=os.getenv(ALPACA_SECRET_KEY)\n",
    "\n",
    "\n",
    "\n",
    "alpaca=tradeapi.REST(ALPACA_API_KEY,ALPACA_SECRET_KEY,api_version=\"v2\")\n",
    "\n",
    "\n",
    "#Setting the tickers\n",
    "tickers = ['SPY']\n",
    "\n",
    "#Setting the timeframe\n",
    "timeframe='1Day'\n",
    "\n",
    "#Formatting the date\n",
    "today = pd.Timestamp.now(tz=\"US/Pacific\")\n",
    "a_year_ago = pd.Timestamp(today - pd.Timedelta(days=1001)).isoformat()\n",
    "end_date = pd.Timestamp(today - pd.Timedelta(days=1)).isoformat()\n",
    "\n",
    "#Getting the closing prices\n",
    "spy_price = alpaca.get_bars(\n",
    "    tickers,\n",
    "    timeframe,\n",
    "    start=a_year_ago,\n",
    "    end=end_date\n",
    ").df\n",
    "\n",
    "# Check for NaN Values\n",
    "spy_price.isnull().dropna()\n",
    "\n",
    "df_spy = spy_price.drop(columns=[\"trade_count\",\"vwap\",\"symbol\"])\n",
    "df_spy"
   ]
  },
  {
   "cell_type": "code",
   "execution_count": 28,
   "id": "085c4456-611c-4ce9-9402-865239051723",
   "metadata": {},
   "outputs": [],
   "source": [
    "database_name = 'sqlite:///'\n",
    "# Database connection object\n",
    "Engine = sql.create_engine(database_name)"
   ]
  },
  {
   "cell_type": "code",
   "execution_count": 39,
   "id": "4ca04570",
   "metadata": {},
   "outputs": [
    {
     "name": "stderr",
     "output_type": "stream",
     "text": [
      "/Users/kaiofadul/opt/anaconda3/envs/dev/lib/python3.7/site-packages/ipykernel_launcher.py:9: SADeprecationWarning: The Engine.table_names() method is deprecated and will be removed in a future release.  Please refer to Inspector.get_table_names(). (deprecated since: 1.4)\n",
      "  if __name__ == \"__main__\":\n"
     ]
    },
    {
     "data": {},
     "metadata": {},
     "output_type": "display_data"
    },
    {
     "data": {
      "application/vnd.holoviews_exec.v0+json": "",
      "text/html": [
       "<div id='1246'>\n",
       "\n",
       "\n",
       "\n",
       "\n",
       "\n",
       "  <div class=\"bk-root\" id=\"18ef1ced-92ee-4a79-a4a6-5bf83f419cbd\" data-root-id=\"1246\"></div>\n",
       "</div>\n",
       "<script type=\"application/javascript\">(function(root) {\n",
       "  function embed_document(root) {\n",
       "    var docs_json = {\"8e67967b-5adb-4ea6-a0e8-b8ea36d85d28\":{\"defs\":[{\"extends\":null,\"module\":null,\"name\":\"ReactiveHTML1\",\"overrides\":[],\"properties\":[]},{\"extends\":null,\"module\":null,\"name\":\"FlexBox1\",\"overrides\":[],\"properties\":[{\"default\":\"flex-start\",\"kind\":null,\"name\":\"align_content\"},{\"default\":\"flex-start\",\"kind\":null,\"name\":\"align_items\"},{\"default\":\"row\",\"kind\":null,\"name\":\"flex_direction\"},{\"default\":\"wrap\",\"kind\":null,\"name\":\"flex_wrap\"},{\"default\":\"flex-start\",\"kind\":null,\"name\":\"justify_content\"}]},{\"extends\":null,\"module\":null,\"name\":\"GridStack1\",\"overrides\":[],\"properties\":[{\"default\":\"warn\",\"kind\":null,\"name\":\"mode\"},{\"default\":null,\"kind\":null,\"name\":\"ncols\"},{\"default\":null,\"kind\":null,\"name\":\"nrows\"},{\"default\":true,\"kind\":null,\"name\":\"allow_resize\"},{\"default\":true,\"kind\":null,\"name\":\"allow_drag\"},{\"default\":[],\"kind\":null,\"name\":\"state\"}]},{\"extends\":null,\"module\":null,\"name\":\"click1\",\"overrides\":[],\"properties\":[{\"default\":\"\",\"kind\":null,\"name\":\"terminal_output\"},{\"default\":\"\",\"kind\":null,\"name\":\"debug_name\"},{\"default\":0,\"kind\":null,\"name\":\"clears\"}]},{\"extends\":null,\"module\":null,\"name\":\"TemplateActions1\",\"overrides\":[],\"properties\":[{\"default\":0,\"kind\":null,\"name\":\"open_modal\"},{\"default\":0,\"kind\":null,\"name\":\"close_modal\"}]},{\"extends\":null,\"module\":null,\"name\":\"MaterialTemplateActions1\",\"overrides\":[],\"properties\":[{\"default\":0,\"kind\":null,\"name\":\"open_modal\"},{\"default\":0,\"kind\":null,\"name\":\"close_modal\"}]}],\"roots\":{\"references\":[{\"attributes\":{\"source\":{\"id\":\"1281\"}},\"id\":\"1288\",\"type\":\"CDSView\"},{\"attributes\":{\"tools\":[{\"id\":\"1250\"},{\"id\":\"1268\"},{\"id\":\"1269\"},{\"id\":\"1270\"},{\"id\":\"1271\"},{\"id\":\"1272\"}]},\"id\":\"1274\",\"type\":\"Toolbar\"},{\"attributes\":{\"axis\":{\"id\":\"1264\"},\"coordinates\":null,\"dimension\":1,\"grid_line_color\":null,\"group\":null,\"ticker\":null},\"id\":\"1267\",\"type\":\"Grid\"},{\"attributes\":{\"axis_label\":\"Time Length\",\"coordinates\":null,\"formatter\":{\"id\":\"1291\"},\"group\":null,\"major_label_policy\":{\"id\":\"1292\"},\"ticker\":{\"id\":\"1261\"}},\"id\":\"1260\",\"type\":\"LinearAxis\"},{\"attributes\":{\"bottom_units\":\"screen\",\"coordinates\":null,\"fill_alpha\":0.5,\"fill_color\":\"lightgrey\",\"group\":null,\"left_units\":\"screen\",\"level\":\"overlay\",\"line_alpha\":1.0,\"line_color\":\"black\",\"line_dash\":[4,4],\"line_width\":2,\"right_units\":\"screen\",\"syncable\":false,\"top_units\":\"screen\"},\"id\":\"1273\",\"type\":\"BoxAnnotation\"},{\"attributes\":{\"line_color\":\"#30a2da\",\"line_width\":2,\"x\":{\"field\":\"index\"},\"y\":{\"field\":\"close\"}},\"id\":\"1284\",\"type\":\"Line\"},{\"attributes\":{},\"id\":\"1256\",\"type\":\"LinearScale\"},{\"attributes\":{},\"id\":\"1261\",\"type\":\"BasicTicker\"},{\"attributes\":{},\"id\":\"1303\",\"type\":\"UnionRenderers\"},{\"attributes\":{\"line_color\":\"#30a2da\",\"line_width\":2,\"x\":{\"field\":\"index\"},\"y\":{\"field\":\"close\"}},\"id\":\"1289\",\"type\":\"Line\"},{\"attributes\":{\"axis\":{\"id\":\"1260\"},\"coordinates\":null,\"grid_line_color\":null,\"group\":null,\"ticker\":null},\"id\":\"1263\",\"type\":\"Grid\"},{\"attributes\":{\"end\":690.0,\"reset_end\":690.0,\"reset_start\":0.0,\"tags\":[[[\"index\",\"index\",null]]]},\"id\":\"1248\",\"type\":\"Range1d\"},{\"attributes\":{},\"id\":\"1265\",\"type\":\"BasicTicker\"},{\"attributes\":{\"below\":[{\"id\":\"1260\"}],\"center\":[{\"id\":\"1263\"},{\"id\":\"1267\"}],\"height\":300,\"left\":[{\"id\":\"1264\"}],\"margin\":[5,5,5,5],\"min_border_bottom\":10,\"min_border_left\":10,\"min_border_right\":10,\"min_border_top\":10,\"renderers\":[{\"id\":\"1287\"}],\"sizing_mode\":\"fixed\",\"title\":{\"id\":\"1252\"},\"toolbar\":{\"id\":\"1274\"},\"width\":700,\"x_range\":{\"id\":\"1248\"},\"x_scale\":{\"id\":\"1256\"},\"y_range\":{\"id\":\"1249\"},\"y_scale\":{\"id\":\"1258\"}},\"id\":\"1251\",\"subtype\":\"Figure\",\"type\":\"Plot\"},{\"attributes\":{\"axis_label\":\"Closing Prices\",\"coordinates\":null,\"formatter\":{\"id\":\"1294\"},\"group\":null,\"major_label_policy\":{\"id\":\"1295\"},\"ticker\":{\"id\":\"1265\"}},\"id\":\"1264\",\"type\":\"LinearAxis\"},{\"attributes\":{\"data\":{\"close\":{\"__ndarray__\":\"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\",\"dtype\":\"float64\",\"order\":\"little\",\"shape\":[691]},\"index\":[0,1,2,3,4,5,6,7,8,9,10,11,12,13,14,15,16,17,18,19,20,21,22,23,24,25,26,27,28,29,30,31,32,33,34,35,36,37,38,39,40,41,42,43,44,45,46,47,48,49,50,51,52,53,54,55,56,57,58,59,60,61,62,63,64,65,66,67,68,69,70,71,72,73,74,75,76,77,78,79,80,81,82,83,84,85,86,87,88,89,90,91,92,93,94,95,96,97,98,99,100,101,102,103,104,105,106,107,108,109,110,111,112,113,114,115,116,117,118,119,120,121,122,123,124,125,126,127,128,129,130,131,132,133,134,135,136,137,138,139,140,141,142,143,144,145,146,147,148,149,150,151,152,153,154,155,156,157,158,159,160,161,162,163,164,165,166,167,168,169,170,171,172,173,174,175,176,177,178,179,180,181,182,183,184,185,186,187,188,189,190,191,192,193,194,195,196,197,198,199,200,201,202,203,204,205,206,207,208,209,210,211,212,213,214,215,216,217,218,219,220,221,222,223,224,225,226,227,228,229,230,231,232,233,234,235,236,237,238,239,240,241,242,243,244,245,246,247,248,249,250,251,252,253,254,255,256,257,258,259,260,261,262,263,264,265,266,267,268,269,270,271,272,273,274,275,276,277,278,279,280,281,282,283,284,285,286,287,288,289,290,291,292,293,294,295,296,297,298,299,300,301,302,303,304,305,306,307,308,309,310,311,312,313,314,315,316,317,318,319,320,321,322,323,324,325,326,327,328,329,330,331,332,333,334,335,336,337,338,339,340,341,342,343,344,345,346,347,348,349,350,351,352,353,354,355,356,357,358,359,360,361,362,363,364,365,366,367,368,369,370,371,372,373,374,375,376,377,378,379,380,381,382,383,384,385,386,387,388,389,390,391,392,393,394,395,396,397,398,399,400,401,402,403,404,405,406,407,408,409,410,411,412,413,414,415,416,417,418,419,420,421,422,423,424,425,426,427,428,429,430,431,432,433,434,435,436,437,438,439,440,441,442,443,444,445,446,447,448,449,450,451,452,453,454,455,456,457,458,459,460,461,462,463,464,465,466,467,468,469,470,471,472,473,474,475,476,477,478,479,480,481,482,483,484,485,486,487,488,489,490,491,492,493,494,495,496,497,498,499,500,501,502,503,504,505,506,507,508,509,510,511,512,513,514,515,516,517,518,519,520,521,522,523,524,525,526,527,528,529,530,531,532,533,534,535,536,537,538,539,540,541,542,543,544,545,546,547,548,549,550,551,552,553,554,555,556,557,558,559,560,561,562,563,564,565,566,567,568,569,570,571,572,573,574,575,576,577,578,579,580,581,582,583,584,585,586,587,588,589,590,591,592,593,594,595,596,597,598,599,600,601,602,603,604,605,606,607,608,609,610,611,612,613,614,615,616,617,618,619,620,621,622,623,624,625,626,627,628,629,630,631,632,633,634,635,636,637,638,639,640,641,642,643,644,645,646,647,648,649,650,651,652,653,654,655,656,657,658,659,660,661,662,663,664,665,666,667,668,669,670,671,672,673,674,675,676,677,678,679,680,681,682,683,684,685,686,687,688,689,690]},\"selected\":{\"id\":\"1282\"},\"selection_policy\":{\"id\":\"1303\"}},\"id\":\"1281\",\"type\":\"ColumnDataSource\"},{\"attributes\":{\"line_alpha\":0.1,\"line_color\":\"#30a2da\",\"line_width\":2,\"x\":{\"field\":\"index\"},\"y\":{\"field\":\"close\"}},\"id\":\"1285\",\"type\":\"Line\"},{\"attributes\":{},\"id\":\"1294\",\"type\":\"BasicTickFormatter\"},{\"attributes\":{\"line_alpha\":0.2,\"line_color\":\"#30a2da\",\"line_width\":2,\"x\":{\"field\":\"index\"},\"y\":{\"field\":\"close\"}},\"id\":\"1286\",\"type\":\"Line\"},{\"attributes\":{},\"id\":\"1258\",\"type\":\"LinearScale\"},{\"attributes\":{\"coordinates\":null,\"data_source\":{\"id\":\"1281\"},\"glyph\":{\"id\":\"1284\"},\"group\":null,\"hover_glyph\":null,\"muted_glyph\":{\"id\":\"1286\"},\"nonselection_glyph\":{\"id\":\"1285\"},\"selection_glyph\":{\"id\":\"1289\"},\"view\":{\"id\":\"1288\"}},\"id\":\"1287\",\"type\":\"GlyphRenderer\"},{\"attributes\":{},\"id\":\"1292\",\"type\":\"AllLabels\"},{\"attributes\":{},\"id\":\"1268\",\"type\":\"SaveTool\"},{\"attributes\":{},\"id\":\"1291\",\"type\":\"BasicTickFormatter\"},{\"attributes\":{\"callback\":null,\"renderers\":[{\"id\":\"1287\"}],\"tags\":[\"hv_created\"],\"tooltips\":[[\"index\",\"@{index}\"],[\"close\",\"@{close}\"]]},\"id\":\"1250\",\"type\":\"HoverTool\"},{\"attributes\":{},\"id\":\"1269\",\"type\":\"PanTool\"},{\"attributes\":{},\"id\":\"1295\",\"type\":\"AllLabels\"},{\"attributes\":{\"end\":503.21299999999997,\"reset_end\":503.21299999999997,\"reset_start\":197.17700000000002,\"start\":197.17700000000002,\"tags\":[[[\"close\",\"close\",null]]]},\"id\":\"1249\",\"type\":\"Range1d\"},{\"attributes\":{\"margin\":[5,5,5,5],\"name\":\"HSpacer02153\",\"sizing_mode\":\"stretch_width\"},\"id\":\"1316\",\"type\":\"Spacer\"},{\"attributes\":{},\"id\":\"1270\",\"type\":\"WheelZoomTool\"},{\"attributes\":{},\"id\":\"1272\",\"type\":\"ResetTool\"},{\"attributes\":{\"overlay\":{\"id\":\"1273\"}},\"id\":\"1271\",\"type\":\"BoxZoomTool\"},{\"attributes\":{},\"id\":\"1282\",\"type\":\"Selection\"},{\"attributes\":{\"coordinates\":null,\"group\":null,\"text\":\"The Close Prices For the SPY\",\"text_color\":\"black\",\"text_font_size\":\"12pt\"},\"id\":\"1252\",\"type\":\"Title\"},{\"attributes\":{\"margin\":[5,5,5,5],\"name\":\"HSpacer02152\",\"sizing_mode\":\"stretch_width\"},\"id\":\"1247\",\"type\":\"Spacer\"},{\"attributes\":{\"children\":[{\"id\":\"1247\"},{\"id\":\"1251\"},{\"id\":\"1316\"}],\"margin\":[0,0,0,0],\"name\":\"Row02148\",\"tags\":[\"embedded\"]},\"id\":\"1246\",\"type\":\"Row\"}],\"root_ids\":[\"1246\"]},\"title\":\"Bokeh Application\",\"version\":\"2.4.2\"}};\n",
       "    var render_items = [{\"docid\":\"8e67967b-5adb-4ea6-a0e8-b8ea36d85d28\",\"root_ids\":[\"1246\"],\"roots\":{\"1246\":\"18ef1ced-92ee-4a79-a4a6-5bf83f419cbd\"}}];\n",
       "    root.Bokeh.embed.embed_items_notebook(docs_json, render_items);\n",
       "  }\n",
       "  if (root.Bokeh !== undefined && root.Bokeh.Panel !== undefined) {\n",
       "    embed_document(root);\n",
       "  } else {\n",
       "    var attempts = 0;\n",
       "    var timer = setInterval(function(root) {\n",
       "      if (root.Bokeh !== undefined && root.Bokeh.Panel !== undefined) {\n",
       "        clearInterval(timer);\n",
       "        embed_document(root);\n",
       "      } else if (document.readyState == \"complete\") {\n",
       "        attempts++;\n",
       "        if (attempts > 200) {\n",
       "          clearInterval(timer);\n",
       "          console.log(\"Bokeh: ERROR: Unable to run BokehJS code because BokehJS library is missing\");\n",
       "        }\n",
       "      }\n",
       "    }, 25, root)\n",
       "  }\n",
       "})(window);</script>"
      ],
      "text/plain": [
       ":Curve   [index]   (close)"
      ]
     },
     "execution_count": 39,
     "metadata": {
      "application/vnd.holoviews_exec.v0+json": {
       "id": "1246"
      }
     },
     "output_type": "execute_result"
    }
   ],
   "source": [
    "# Create a Dataframe for the Close prices\n",
    "SPY_close = df_spy[\"close\"]\n",
    "SPY_close.head()\n",
    "SPY_close_df = pd.DataFrame(SPY_close)\n",
    "SPY_close_df\n",
    "\n",
    "# Create a SPY Close table\n",
    "SPY_close_df.to_sql(\"SPY_Close\",Engine,index=False,if_exists='replace')\n",
    "Engine.table_names()\n",
    "\n",
    "# Make a query to get the SPY \n",
    "SPY_Close_Table = \"\"\"\n",
    "SELECT *\n",
    "FROM SPY_close\n",
    "\"\"\"\n",
    "\n",
    "# Call the query\n",
    "df_spy = pd.read_sql_query(SPY_Close_Table, con=Engine)\n",
    "\n",
    "# Plot the query for SPY Close prices\n",
    "df_spy.hvplot(xlabel=\"Time Length\",ylabel=\"Closing Prices\",title=\"The Close Prices For the SPY\")"
   ]
  },
  {
   "cell_type": "code",
   "execution_count": 38,
   "id": "08a305b0",
   "metadata": {},
   "outputs": [
    {
     "name": "stderr",
     "output_type": "stream",
     "text": [
      "/Users/kaiofadul/opt/anaconda3/envs/dev/lib/python3.7/site-packages/ipykernel_launcher.py:7: SADeprecationWarning: The Engine.table_names() method is deprecated and will be removed in a future release.  Please refer to Inspector.get_table_names(). (deprecated since: 1.4)\n",
      "  import sys\n"
     ]
    },
    {
     "data": {},
     "metadata": {},
     "output_type": "display_data"
    },
    {
     "data": {
      "application/vnd.holoviews_exec.v0+json": "",
      "text/html": [
       "<div id='1124'>\n",
       "\n",
       "\n",
       "\n",
       "\n",
       "\n",
       "  <div class=\"bk-root\" id=\"4ebf11db-0b97-404e-8b65-9c1531ce0108\" data-root-id=\"1124\"></div>\n",
       "</div>\n",
       "<script type=\"application/javascript\">(function(root) {\n",
       "  function embed_document(root) {\n",
       "    var docs_json = {\"54907331-2b0c-43bb-9772-5f6fd3e9cb08\":{\"defs\":[{\"extends\":null,\"module\":null,\"name\":\"ReactiveHTML1\",\"overrides\":[],\"properties\":[]},{\"extends\":null,\"module\":null,\"name\":\"FlexBox1\",\"overrides\":[],\"properties\":[{\"default\":\"flex-start\",\"kind\":null,\"name\":\"align_content\"},{\"default\":\"flex-start\",\"kind\":null,\"name\":\"align_items\"},{\"default\":\"row\",\"kind\":null,\"name\":\"flex_direction\"},{\"default\":\"wrap\",\"kind\":null,\"name\":\"flex_wrap\"},{\"default\":\"flex-start\",\"kind\":null,\"name\":\"justify_content\"}]},{\"extends\":null,\"module\":null,\"name\":\"GridStack1\",\"overrides\":[],\"properties\":[{\"default\":\"warn\",\"kind\":null,\"name\":\"mode\"},{\"default\":null,\"kind\":null,\"name\":\"ncols\"},{\"default\":null,\"kind\":null,\"name\":\"nrows\"},{\"default\":true,\"kind\":null,\"name\":\"allow_resize\"},{\"default\":true,\"kind\":null,\"name\":\"allow_drag\"},{\"default\":[],\"kind\":null,\"name\":\"state\"}]},{\"extends\":null,\"module\":null,\"name\":\"click1\",\"overrides\":[],\"properties\":[{\"default\":\"\",\"kind\":null,\"name\":\"terminal_output\"},{\"default\":\"\",\"kind\":null,\"name\":\"debug_name\"},{\"default\":0,\"kind\":null,\"name\":\"clears\"}]},{\"extends\":null,\"module\":null,\"name\":\"TemplateActions1\",\"overrides\":[],\"properties\":[{\"default\":0,\"kind\":null,\"name\":\"open_modal\"},{\"default\":0,\"kind\":null,\"name\":\"close_modal\"}]},{\"extends\":null,\"module\":null,\"name\":\"MaterialTemplateActions1\",\"overrides\":[],\"properties\":[{\"default\":0,\"kind\":null,\"name\":\"open_modal\"},{\"default\":0,\"kind\":null,\"name\":\"close_modal\"}]}],\"roots\":{\"references\":[{\"attributes\":{\"line_alpha\":0.1,\"line_color\":\"#30a2da\",\"line_width\":2,\"x\":{\"field\":\"index\"},\"y\":{\"field\":\"high\"}},\"id\":\"1163\",\"type\":\"Line\"},{\"attributes\":{\"below\":[{\"id\":\"1138\"}],\"center\":[{\"id\":\"1141\"},{\"id\":\"1145\"}],\"height\":300,\"left\":[{\"id\":\"1142\"}],\"margin\":[5,5,5,5],\"min_border_bottom\":10,\"min_border_left\":10,\"min_border_right\":10,\"min_border_top\":10,\"renderers\":[{\"id\":\"1165\"}],\"sizing_mode\":\"fixed\",\"title\":{\"id\":\"1130\"},\"toolbar\":{\"id\":\"1152\"},\"width\":700,\"x_range\":{\"id\":\"1126\"},\"x_scale\":{\"id\":\"1134\"},\"y_range\":{\"id\":\"1127\"},\"y_scale\":{\"id\":\"1136\"}},\"id\":\"1129\",\"subtype\":\"Figure\",\"type\":\"Plot\"},{\"attributes\":{},\"id\":\"1170\",\"type\":\"AllLabels\"},{\"attributes\":{\"line_alpha\":0.2,\"line_color\":\"#30a2da\",\"line_width\":2,\"x\":{\"field\":\"index\"},\"y\":{\"field\":\"high\"}},\"id\":\"1164\",\"type\":\"Line\"},{\"attributes\":{},\"id\":\"1136\",\"type\":\"LinearScale\"},{\"attributes\":{},\"id\":\"1172\",\"type\":\"BasicTickFormatter\"},{\"attributes\":{\"source\":{\"id\":\"1159\"}},\"id\":\"1166\",\"type\":\"CDSView\"},{\"attributes\":{},\"id\":\"1146\",\"type\":\"SaveTool\"},{\"attributes\":{\"data\":{\"high\":{\"__ndarray__\":\"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\",\"dtype\":\"float64\",\"order\":\"little\",\"shape\":[691]},\"index\":[0,1,2,3,4,5,6,7,8,9,10,11,12,13,14,15,16,17,18,19,20,21,22,23,24,25,26,27,28,29,30,31,32,33,34,35,36,37,38,39,40,41,42,43,44,45,46,47,48,49,50,51,52,53,54,55,56,57,58,59,60,61,62,63,64,65,66,67,68,69,70,71,72,73,74,75,76,77,78,79,80,81,82,83,84,85,86,87,88,89,90,91,92,93,94,95,96,97,98,99,100,101,102,103,104,105,106,107,108,109,110,111,112,113,114,115,116,117,118,119,120,121,122,123,124,125,126,127,128,129,130,131,132,133,134,135,136,137,138,139,140,141,142,143,144,145,146,147,148,149,150,151,152,153,154,155,156,157,158,159,160,161,162,163,164,165,166,167,168,169,170,171,172,173,174,175,176,177,178,179,180,181,182,183,184,185,186,187,188,189,190,191,192,193,194,195,196,197,198,199,200,201,202,203,204,205,206,207,208,209,210,211,212,213,214,215,216,217,218,219,220,221,222,223,224,225,226,227,228,229,230,231,232,233,234,235,236,237,238,239,240,241,242,243,244,245,246,247,248,249,250,251,252,253,254,255,256,257,258,259,260,261,262,263,264,265,266,267,268,269,270,271,272,273,274,275,276,277,278,279,280,281,282,283,284,285,286,287,288,289,290,291,292,293,294,295,296,297,298,299,300,301,302,303,304,305,306,307,308,309,310,311,312,313,314,315,316,317,318,319,320,321,322,323,324,325,326,327,328,329,330,331,332,333,334,335,336,337,338,339,340,341,342,343,344,345,346,347,348,349,350,351,352,353,354,355,356,357,358,359,360,361,362,363,364,365,366,367,368,369,370,371,372,373,374,375,376,377,378,379,380,381,382,383,384,385,386,387,388,389,390,391,392,393,394,395,396,397,398,399,400,401,402,403,404,405,406,407,408,409,410,411,412,413,414,415,416,417,418,419,420,421,422,423,424,425,426,427,428,429,430,431,432,433,434,435,436,437,438,439,440,441,442,443,444,445,446,447,448,449,450,451,452,453,454,455,456,457,458,459,460,461,462,463,464,465,466,467,468,469,470,471,472,473,474,475,476,477,478,479,480,481,482,483,484,485,486,487,488,489,490,491,492,493,494,495,496,497,498,499,500,501,502,503,504,505,506,507,508,509,510,511,512,513,514,515,516,517,518,519,520,521,522,523,524,525,526,527,528,529,530,531,532,533,534,535,536,537,538,539,540,541,542,543,544,545,546,547,548,549,550,551,552,553,554,555,556,557,558,559,560,561,562,563,564,565,566,567,568,569,570,571,572,573,574,575,576,577,578,579,580,581,582,583,584,585,586,587,588,589,590,591,592,593,594,595,596,597,598,599,600,601,602,603,604,605,606,607,608,609,610,611,612,613,614,615,616,617,618,619,620,621,622,623,624,625,626,627,628,629,630,631,632,633,634,635,636,637,638,639,640,641,642,643,644,645,646,647,648,649,650,651,652,653,654,655,656,657,658,659,660,661,662,663,664,665,666,667,668,669,670,671,672,673,674,675,676,677,678,679,680,681,682,683,684,685,686,687,688,689,690]},\"selected\":{\"id\":\"1160\"},\"selection_policy\":{\"id\":\"1181\"}},\"id\":\"1159\",\"type\":\"ColumnDataSource\"},{\"attributes\":{\"end\":505.00967,\"reset_end\":505.00967,\"reset_start\":204.65363,\"start\":204.65363,\"tags\":[[[\"high\",\"high\",null]]]},\"id\":\"1127\",\"type\":\"Range1d\"},{\"attributes\":{},\"id\":\"1147\",\"type\":\"PanTool\"},{\"attributes\":{},\"id\":\"1173\",\"type\":\"AllLabels\"},{\"attributes\":{\"line_color\":\"#30a2da\",\"line_width\":2,\"x\":{\"field\":\"index\"},\"y\":{\"field\":\"high\"}},\"id\":\"1162\",\"type\":\"Line\"},{\"attributes\":{},\"id\":\"1148\",\"type\":\"WheelZoomTool\"},{\"attributes\":{},\"id\":\"1169\",\"type\":\"BasicTickFormatter\"},{\"attributes\":{\"tools\":[{\"id\":\"1128\"},{\"id\":\"1146\"},{\"id\":\"1147\"},{\"id\":\"1148\"},{\"id\":\"1149\"},{\"id\":\"1150\"}]},\"id\":\"1152\",\"type\":\"Toolbar\"},{\"attributes\":{\"children\":[{\"id\":\"1125\"},{\"id\":\"1129\"},{\"id\":\"1194\"}],\"margin\":[0,0,0,0],\"name\":\"Row01915\",\"tags\":[\"embedded\"]},\"id\":\"1124\",\"type\":\"Row\"},{\"attributes\":{\"overlay\":{\"id\":\"1151\"}},\"id\":\"1149\",\"type\":\"BoxZoomTool\"},{\"attributes\":{\"coordinates\":null,\"group\":null,\"text\":\"The High Prices for SPY\",\"text_color\":\"black\",\"text_font_size\":\"12pt\"},\"id\":\"1130\",\"type\":\"Title\"},{\"attributes\":{\"callback\":null,\"renderers\":[{\"id\":\"1165\"}],\"tags\":[\"hv_created\"],\"tooltips\":[[\"index\",\"@{index}\"],[\"high\",\"@{high}\"]]},\"id\":\"1128\",\"type\":\"HoverTool\"},{\"attributes\":{},\"id\":\"1150\",\"type\":\"ResetTool\"},{\"attributes\":{\"bottom_units\":\"screen\",\"coordinates\":null,\"fill_alpha\":0.5,\"fill_color\":\"lightgrey\",\"group\":null,\"left_units\":\"screen\",\"level\":\"overlay\",\"line_alpha\":1.0,\"line_color\":\"black\",\"line_dash\":[4,4],\"line_width\":2,\"right_units\":\"screen\",\"syncable\":false,\"top_units\":\"screen\"},\"id\":\"1151\",\"type\":\"BoxAnnotation\"},{\"attributes\":{\"axis\":{\"id\":\"1142\"},\"coordinates\":null,\"dimension\":1,\"grid_line_color\":null,\"group\":null,\"ticker\":null},\"id\":\"1145\",\"type\":\"Grid\"},{\"attributes\":{\"axis_label\":\"Time Lenght\",\"coordinates\":null,\"formatter\":{\"id\":\"1169\"},\"group\":null,\"major_label_policy\":{\"id\":\"1170\"},\"ticker\":{\"id\":\"1139\"}},\"id\":\"1138\",\"type\":\"LinearAxis\"},{\"attributes\":{},\"id\":\"1134\",\"type\":\"LinearScale\"},{\"attributes\":{\"coordinates\":null,\"data_source\":{\"id\":\"1159\"},\"glyph\":{\"id\":\"1162\"},\"group\":null,\"hover_glyph\":null,\"muted_glyph\":{\"id\":\"1164\"},\"nonselection_glyph\":{\"id\":\"1163\"},\"selection_glyph\":{\"id\":\"1167\"},\"view\":{\"id\":\"1166\"}},\"id\":\"1165\",\"type\":\"GlyphRenderer\"},{\"attributes\":{\"margin\":[5,5,5,5],\"name\":\"HSpacer01920\",\"sizing_mode\":\"stretch_width\"},\"id\":\"1194\",\"type\":\"Spacer\"},{\"attributes\":{\"margin\":[5,5,5,5],\"name\":\"HSpacer01919\",\"sizing_mode\":\"stretch_width\"},\"id\":\"1125\",\"type\":\"Spacer\"},{\"attributes\":{\"end\":690.0,\"reset_end\":690.0,\"reset_start\":0.0,\"tags\":[[[\"index\",\"index\",null]]]},\"id\":\"1126\",\"type\":\"Range1d\"},{\"attributes\":{\"line_color\":\"#30a2da\",\"line_width\":2,\"x\":{\"field\":\"index\"},\"y\":{\"field\":\"high\"}},\"id\":\"1167\",\"type\":\"Line\"},{\"attributes\":{},\"id\":\"1139\",\"type\":\"BasicTicker\"},{\"attributes\":{},\"id\":\"1181\",\"type\":\"UnionRenderers\"},{\"attributes\":{\"axis\":{\"id\":\"1138\"},\"coordinates\":null,\"grid_line_color\":null,\"group\":null,\"ticker\":null},\"id\":\"1141\",\"type\":\"Grid\"},{\"attributes\":{},\"id\":\"1160\",\"type\":\"Selection\"},{\"attributes\":{},\"id\":\"1143\",\"type\":\"BasicTicker\"},{\"attributes\":{\"axis_label\":\"High Prices\",\"coordinates\":null,\"formatter\":{\"id\":\"1172\"},\"group\":null,\"major_label_policy\":{\"id\":\"1173\"},\"ticker\":{\"id\":\"1143\"}},\"id\":\"1142\",\"type\":\"LinearAxis\"}],\"root_ids\":[\"1124\"]},\"title\":\"Bokeh Application\",\"version\":\"2.4.2\"}};\n",
       "    var render_items = [{\"docid\":\"54907331-2b0c-43bb-9772-5f6fd3e9cb08\",\"root_ids\":[\"1124\"],\"roots\":{\"1124\":\"4ebf11db-0b97-404e-8b65-9c1531ce0108\"}}];\n",
       "    root.Bokeh.embed.embed_items_notebook(docs_json, render_items);\n",
       "  }\n",
       "  if (root.Bokeh !== undefined && root.Bokeh.Panel !== undefined) {\n",
       "    embed_document(root);\n",
       "  } else {\n",
       "    var attempts = 0;\n",
       "    var timer = setInterval(function(root) {\n",
       "      if (root.Bokeh !== undefined && root.Bokeh.Panel !== undefined) {\n",
       "        clearInterval(timer);\n",
       "        embed_document(root);\n",
       "      } else if (document.readyState == \"complete\") {\n",
       "        attempts++;\n",
       "        if (attempts > 200) {\n",
       "          clearInterval(timer);\n",
       "          console.log(\"Bokeh: ERROR: Unable to run BokehJS code because BokehJS library is missing\");\n",
       "        }\n",
       "      }\n",
       "    }, 25, root)\n",
       "  }\n",
       "})(window);</script>"
      ],
      "text/plain": [
       ":Curve   [index]   (high)"
      ]
     },
     "execution_count": 38,
     "metadata": {
      "application/vnd.holoviews_exec.v0+json": {
       "id": "1124"
      }
     },
     "output_type": "execute_result"
    }
   ],
   "source": [
    "# Create a table for the High Prices\n",
    "SPY_high = df_spy['high']\n",
    "SPY_high_df = pd.DataFrame(SPY_high)\n",
    "\n",
    "# Create a SPY high prices table\n",
    "SPY_high_df.to_sql('SPY_high',Engine, index=False,if_exists='replace')\n",
    "Engine.table_names()\n",
    "\n",
    "# Make a query to get the SPY volume prices\n",
    "SPY_high_table = \"\"\"\n",
    "SELECT *\n",
    "FROM SPY_high\n",
    "\"\"\"\n",
    "\n",
    "# Call the query \n",
    "spy_high_df = pd.read_sql_query(SPY_high_table, con=Engine)\n",
    "\n",
    "# Plot the query for the SPY Prices\n",
    "spy_high_df.hvplot(xlabel=\"Time Lenght\",ylabel=\"High Prices\",title=\"The High Prices for SPY\")"
   ]
  },
  {
   "cell_type": "code",
   "execution_count": 47,
   "id": "539d1978",
   "metadata": {},
   "outputs": [
    {
     "name": "stderr",
     "output_type": "stream",
     "text": [
      "/Users/kaiofadul/opt/anaconda3/envs/dev/lib/python3.7/site-packages/ipykernel_launcher.py:7: SADeprecationWarning: The Engine.table_names() method is deprecated and will be removed in a future release.  Please refer to Inspector.get_table_names(). (deprecated since: 1.4)\n",
      "  import sys\n"
     ]
    },
    {
     "data": {},
     "metadata": {},
     "output_type": "display_data"
    },
    {
     "data": {
      "application/vnd.holoviews_exec.v0+json": "",
      "text/html": [
       "<div id='1612'>\n",
       "\n",
       "\n",
       "\n",
       "\n",
       "\n",
       "  <div class=\"bk-root\" id=\"dd327ff3-2ba5-4d1a-be7c-aa411c0cb908\" data-root-id=\"1612\"></div>\n",
       "</div>\n",
       "<script type=\"application/javascript\">(function(root) {\n",
       "  function embed_document(root) {\n",
       "    var docs_json = {\"198561e1-35d6-44e2-82b0-33abc468f037\":{\"defs\":[{\"extends\":null,\"module\":null,\"name\":\"ReactiveHTML1\",\"overrides\":[],\"properties\":[]},{\"extends\":null,\"module\":null,\"name\":\"FlexBox1\",\"overrides\":[],\"properties\":[{\"default\":\"flex-start\",\"kind\":null,\"name\":\"align_content\"},{\"default\":\"flex-start\",\"kind\":null,\"name\":\"align_items\"},{\"default\":\"row\",\"kind\":null,\"name\":\"flex_direction\"},{\"default\":\"wrap\",\"kind\":null,\"name\":\"flex_wrap\"},{\"default\":\"flex-start\",\"kind\":null,\"name\":\"justify_content\"}]},{\"extends\":null,\"module\":null,\"name\":\"GridStack1\",\"overrides\":[],\"properties\":[{\"default\":\"warn\",\"kind\":null,\"name\":\"mode\"},{\"default\":null,\"kind\":null,\"name\":\"ncols\"},{\"default\":null,\"kind\":null,\"name\":\"nrows\"},{\"default\":true,\"kind\":null,\"name\":\"allow_resize\"},{\"default\":true,\"kind\":null,\"name\":\"allow_drag\"},{\"default\":[],\"kind\":null,\"name\":\"state\"}]},{\"extends\":null,\"module\":null,\"name\":\"click1\",\"overrides\":[],\"properties\":[{\"default\":\"\",\"kind\":null,\"name\":\"terminal_output\"},{\"default\":\"\",\"kind\":null,\"name\":\"debug_name\"},{\"default\":0,\"kind\":null,\"name\":\"clears\"}]},{\"extends\":null,\"module\":null,\"name\":\"TemplateActions1\",\"overrides\":[],\"properties\":[{\"default\":0,\"kind\":null,\"name\":\"open_modal\"},{\"default\":0,\"kind\":null,\"name\":\"close_modal\"}]},{\"extends\":null,\"module\":null,\"name\":\"MaterialTemplateActions1\",\"overrides\":[],\"properties\":[{\"default\":0,\"kind\":null,\"name\":\"open_modal\"},{\"default\":0,\"kind\":null,\"name\":\"close_modal\"}]}],\"roots\":{\"references\":[{\"attributes\":{},\"id\":\"1648\",\"type\":\"Selection\"},{\"attributes\":{\"children\":[{\"id\":\"1613\"},{\"id\":\"1617\"},{\"id\":\"1682\"}],\"margin\":[0,0,0,0],\"name\":\"Row02847\",\"tags\":[\"embedded\"]},\"id\":\"1612\",\"type\":\"Row\"},{\"attributes\":{\"coordinates\":null,\"group\":null,\"text\":\"The Low Prices for SPY\",\"text_color\":\"black\",\"text_font_size\":\"12pt\"},\"id\":\"1618\",\"type\":\"Title\"},{\"attributes\":{\"tools\":[{\"id\":\"1616\"},{\"id\":\"1634\"},{\"id\":\"1635\"},{\"id\":\"1636\"},{\"id\":\"1637\"},{\"id\":\"1638\"}]},\"id\":\"1640\",\"type\":\"Toolbar\"},{\"attributes\":{\"overlay\":{\"id\":\"1639\"}},\"id\":\"1637\",\"type\":\"BoxZoomTool\"},{\"attributes\":{\"line_alpha\":0.1,\"line_color\":\"#30a2da\",\"line_width\":2,\"x\":{\"field\":\"index\"},\"y\":{\"field\":\"low\"}},\"id\":\"1651\",\"type\":\"Line\"},{\"attributes\":{},\"id\":\"1638\",\"type\":\"ResetTool\"},{\"attributes\":{\"axis\":{\"id\":\"1630\"},\"coordinates\":null,\"dimension\":1,\"grid_line_color\":null,\"group\":null,\"ticker\":null},\"id\":\"1633\",\"type\":\"Grid\"},{\"attributes\":{\"axis_label\":\"Time Lenght\",\"coordinates\":null,\"formatter\":{\"id\":\"1657\"},\"group\":null,\"major_label_policy\":{\"id\":\"1658\"},\"ticker\":{\"id\":\"1627\"}},\"id\":\"1626\",\"type\":\"LinearAxis\"},{\"attributes\":{\"data\":{\"index\":[0,1,2,3,4,5,6,7,8,9,10,11,12,13,14,15,16,17,18,19,20,21,22,23,24,25,26,27,28,29,30,31,32,33,34,35,36,37,38,39,40,41,42,43,44,45,46,47,48,49,50,51,52,53,54,55,56,57,58,59,60,61,62,63,64,65,66,67,68,69,70,71,72,73,74,75,76,77,78,79,80,81,82,83,84,85,86,87,88,89,90,91,92,93,94,95,96,97,98,99,100,101,102,103,104,105,106,107,108,109,110,111,112,113,114,115,116,117,118,119,120,121,122,123,124,125,126,127,128,129,130,131,132,133,134,135,136,137,138,139,140,141,142,143,144,145,146,147,148,149,150,151,152,153,154,155,156,157,158,159,160,161,162,163,164,165,166,167,168,169,170,171,172,173,174,175,176,177,178,179,180,181,182,183,184,185,186,187,188,189,190,191,192,193,194,195,196,197,198,199,200,201,202,203,204,205,206,207,208,209,210,211,212,213,214,215,216,217,218,219,220,221,222,223,224,225,226,227,228,229,230,231,232,233,234,235,236,237,238,239,240,241,242,243,244,245,246,247,248,249,250,251,252,253,254,255,256,257,258,259,260,261,262,263,264,265,266,267,268,269,270,271,272,273,274,275,276,277,278,279,280,281,282,283,284,285,286,287,288,289,290,291,292,293,294,295,296,297,298,299,300,301,302,303,304,305,306,307,308,309,310,311,312,313,314,315,316,317,318,319,320,321,322,323,324,325,326,327,328,329,330,331,332,333,334,335,336,337,338,339,340,341,342,343,344,345,346,347,348,349,350,351,352,353,354,355,356,357,358,359,360,361,362,363,364,365,366,367,368,369,370,371,372,373,374,375,376,377,378,379,380,381,382,383,384,385,386,387,388,389,390,391,392,393,394,395,396,397,398,399,400,401,402,403,404,405,406,407,408,409,410,411,412,413,414,415,416,417,418,419,420,421,422,423,424,425,426,427,428,429,430,431,432,433,434,435,436,437,438,439,440,441,442,443,444,445,446,447,448,449,450,451,452,453,454,455,456,457,458,459,460,461,462,463,464,465,466,467,468,469,470,471,472,473,474,475,476,477,478,479,480,481,482,483,484,485,486,487,488,489,490,491,492,493,494,495,496,497,498,499,500,501,502,503,504,505,506,507,508,509,510,511,512,513,514,515,516,517,518,519,520,521,522,523,524,525,526,527,528,529,530,531,532,533,534,535,536,537,538,539,540,541,542,543,544,545,546,547,548,549,550,551,552,553,554,555,556,557,558,559,560,561,562,563,564,565,566,567,568,569,570,571,572,573,574,575,576,577,578,579,580,581,582,583,584,585,586,587,588,589,590,591,592,593,594,595,596,597,598,599,600,601,602,603,604,605,606,607,608,609,610,611,612,613,614,615,616,617,618,619,620,621,622,623,624,625,626,627,628,629,630,631,632,633,634,635,636,637,638,639,640,641,642,643,644,645,646,647,648,649,650,651,652,653,654,655,656,657,658,659,660,661,662,663,664,665,666,667,668,669,670,671,672,673,674,675,676,677,678,679,680,681,682,683,684,685,686,687,688,689,690],\"low\":{\"__ndarray__\":\"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\",\"dtype\":\"float64\",\"order\":\"little\",\"shape\":[691]}},\"selected\":{\"id\":\"1648\"},\"selection_policy\":{\"id\":\"1669\"}},\"id\":\"1647\",\"type\":\"ColumnDataSource\"},{\"attributes\":{\"bottom_units\":\"screen\",\"coordinates\":null,\"fill_alpha\":0.5,\"fill_color\":\"lightgrey\",\"group\":null,\"left_units\":\"screen\",\"level\":\"overlay\",\"line_alpha\":1.0,\"line_color\":\"black\",\"line_dash\":[4,4],\"line_width\":2,\"right_units\":\"screen\",\"syncable\":false,\"top_units\":\"screen\"},\"id\":\"1639\",\"type\":\"BoxAnnotation\"},{\"attributes\":{\"margin\":[5,5,5,5],\"name\":\"HSpacer02851\",\"sizing_mode\":\"stretch_width\"},\"id\":\"1613\",\"type\":\"Spacer\"},{\"attributes\":{},\"id\":\"1622\",\"type\":\"LinearScale\"},{\"attributes\":{\"coordinates\":null,\"data_source\":{\"id\":\"1647\"},\"glyph\":{\"id\":\"1650\"},\"group\":null,\"hover_glyph\":null,\"muted_glyph\":{\"id\":\"1652\"},\"nonselection_glyph\":{\"id\":\"1651\"},\"selection_glyph\":{\"id\":\"1655\"},\"view\":{\"id\":\"1654\"}},\"id\":\"1653\",\"type\":\"GlyphRenderer\"},{\"attributes\":{\"line_color\":\"#30a2da\",\"line_width\":2,\"x\":{\"field\":\"index\"},\"y\":{\"field\":\"low\"}},\"id\":\"1655\",\"type\":\"Line\"},{\"attributes\":{},\"id\":\"1627\",\"type\":\"BasicTicker\"},{\"attributes\":{},\"id\":\"1669\",\"type\":\"UnionRenderers\"},{\"attributes\":{\"axis\":{\"id\":\"1626\"},\"coordinates\":null,\"grid_line_color\":null,\"group\":null,\"ticker\":null},\"id\":\"1629\",\"type\":\"Grid\"},{\"attributes\":{\"end\":690.0,\"reset_end\":690.0,\"reset_start\":0.0,\"tags\":[[[\"index\",\"index\",null]]]},\"id\":\"1614\",\"type\":\"Range1d\"},{\"attributes\":{},\"id\":\"1631\",\"type\":\"BasicTicker\"},{\"attributes\":{\"below\":[{\"id\":\"1626\"}],\"center\":[{\"id\":\"1629\"},{\"id\":\"1633\"}],\"height\":300,\"left\":[{\"id\":\"1630\"}],\"margin\":[5,5,5,5],\"min_border_bottom\":10,\"min_border_left\":10,\"min_border_right\":10,\"min_border_top\":10,\"renderers\":[{\"id\":\"1653\"}],\"sizing_mode\":\"fixed\",\"title\":{\"id\":\"1618\"},\"toolbar\":{\"id\":\"1640\"},\"width\":700,\"x_range\":{\"id\":\"1614\"},\"x_scale\":{\"id\":\"1622\"},\"y_range\":{\"id\":\"1615\"},\"y_scale\":{\"id\":\"1624\"}},\"id\":\"1617\",\"subtype\":\"Figure\",\"type\":\"Plot\"},{\"attributes\":{\"axis_label\":\"Low Prices\",\"coordinates\":null,\"formatter\":{\"id\":\"1660\"},\"group\":null,\"major_label_policy\":{\"id\":\"1661\"},\"ticker\":{\"id\":\"1631\"}},\"id\":\"1630\",\"type\":\"LinearAxis\"},{\"attributes\":{\"source\":{\"id\":\"1647\"}},\"id\":\"1654\",\"type\":\"CDSView\"},{\"attributes\":{},\"id\":\"1660\",\"type\":\"BasicTickFormatter\"},{\"attributes\":{},\"id\":\"1624\",\"type\":\"LinearScale\"},{\"attributes\":{\"line_alpha\":0.2,\"line_color\":\"#30a2da\",\"line_width\":2,\"x\":{\"field\":\"index\"},\"y\":{\"field\":\"low\"}},\"id\":\"1652\",\"type\":\"Line\"},{\"attributes\":{},\"id\":\"1658\",\"type\":\"AllLabels\"},{\"attributes\":{\"margin\":[5,5,5,5],\"name\":\"HSpacer02852\",\"sizing_mode\":\"stretch_width\"},\"id\":\"1682\",\"type\":\"Spacer\"},{\"attributes\":{\"line_color\":\"#30a2da\",\"line_width\":2,\"x\":{\"field\":\"index\"},\"y\":{\"field\":\"low\"}},\"id\":\"1650\",\"type\":\"Line\"},{\"attributes\":{},\"id\":\"1634\",\"type\":\"SaveTool\"},{\"attributes\":{},\"id\":\"1657\",\"type\":\"BasicTickFormatter\"},{\"attributes\":{\"callback\":null,\"renderers\":[{\"id\":\"1653\"}],\"tags\":[\"hv_created\"],\"tooltips\":[[\"index\",\"@{index}\"],[\"low\",\"@{low}\"]]},\"id\":\"1616\",\"type\":\"HoverTool\"},{\"attributes\":{},\"id\":\"1635\",\"type\":\"PanTool\"},{\"attributes\":{},\"id\":\"1661\",\"type\":\"AllLabels\"},{\"attributes\":{\"end\":501.84000000000003,\"reset_end\":501.84000000000003,\"reset_start\":192.48,\"start\":192.48,\"tags\":[[[\"low\",\"low\",null]]]},\"id\":\"1615\",\"type\":\"Range1d\"},{\"attributes\":{},\"id\":\"1636\",\"type\":\"WheelZoomTool\"}],\"root_ids\":[\"1612\"]},\"title\":\"Bokeh Application\",\"version\":\"2.4.2\"}};\n",
       "    var render_items = [{\"docid\":\"198561e1-35d6-44e2-82b0-33abc468f037\",\"root_ids\":[\"1612\"],\"roots\":{\"1612\":\"dd327ff3-2ba5-4d1a-be7c-aa411c0cb908\"}}];\n",
       "    root.Bokeh.embed.embed_items_notebook(docs_json, render_items);\n",
       "  }\n",
       "  if (root.Bokeh !== undefined && root.Bokeh.Panel !== undefined) {\n",
       "    embed_document(root);\n",
       "  } else {\n",
       "    var attempts = 0;\n",
       "    var timer = setInterval(function(root) {\n",
       "      if (root.Bokeh !== undefined && root.Bokeh.Panel !== undefined) {\n",
       "        clearInterval(timer);\n",
       "        embed_document(root);\n",
       "      } else if (document.readyState == \"complete\") {\n",
       "        attempts++;\n",
       "        if (attempts > 200) {\n",
       "          clearInterval(timer);\n",
       "          console.log(\"Bokeh: ERROR: Unable to run BokehJS code because BokehJS library is missing\");\n",
       "        }\n",
       "      }\n",
       "    }, 25, root)\n",
       "  }\n",
       "})(window);</script>"
      ],
      "text/plain": [
       ":Curve   [index]   (low)"
      ]
     },
     "execution_count": 47,
     "metadata": {
      "application/vnd.holoviews_exec.v0+json": {
       "id": "1612"
      }
     },
     "output_type": "execute_result"
    }
   ],
   "source": [
    "# Create a table for the High Prices\n",
    "SPY_low = df_spy['low']\n",
    "SPY_low_df = pd.DataFrame(SPY_low)\n",
    "\n",
    "# Create a SPY high prices table\n",
    "SPY_low_df.to_sql('SPY_low',Engine, index=False,if_exists='replace')\n",
    "Engine.table_names()\n",
    "\n",
    "# Make a query to get the SPY volume prices\n",
    "SPY_low_table = \"\"\"\n",
    "SELECT *\n",
    "FROM SPY_low\n",
    "\"\"\"\n",
    "\n",
    "# Call the query \n",
    "spy_low_df = pd.read_sql_query(SPY_low_table, con=Engine)\n",
    "\n",
    "# Plot the query for the SPY Prices\n",
    "spy_low_df.hvplot(xlabel=\"Time Lenght\",ylabel=\"Low Prices\",title=\"The Low Prices for SPY\")"
   ]
  },
  {
   "cell_type": "code",
   "execution_count": 46,
   "id": "4c4c623c",
   "metadata": {},
   "outputs": [
    {
     "name": "stderr",
     "output_type": "stream",
     "text": [
      "/Users/kaiofadul/opt/anaconda3/envs/dev/lib/python3.7/site-packages/ipykernel_launcher.py:7: SADeprecationWarning: The Engine.table_names() method is deprecated and will be removed in a future release.  Please refer to Inspector.get_table_names(). (deprecated since: 1.4)\n",
      "  import sys\n"
     ]
    },
    {
     "data": {},
     "metadata": {},
     "output_type": "display_data"
    },
    {
     "data": {
      "application/vnd.holoviews_exec.v0+json": "",
      "text/html": [
       "<div id='1490'>\n",
       "\n",
       "\n",
       "\n",
       "\n",
       "\n",
       "  <div class=\"bk-root\" id=\"a8eea9f0-5f9a-43b1-b752-58cdd7040bbc\" data-root-id=\"1490\"></div>\n",
       "</div>\n",
       "<script type=\"application/javascript\">(function(root) {\n",
       "  function embed_document(root) {\n",
       "    var docs_json = {\"8603a3c6-eca6-45a4-ab69-16af00b5086f\":{\"defs\":[{\"extends\":null,\"module\":null,\"name\":\"ReactiveHTML1\",\"overrides\":[],\"properties\":[]},{\"extends\":null,\"module\":null,\"name\":\"FlexBox1\",\"overrides\":[],\"properties\":[{\"default\":\"flex-start\",\"kind\":null,\"name\":\"align_content\"},{\"default\":\"flex-start\",\"kind\":null,\"name\":\"align_items\"},{\"default\":\"row\",\"kind\":null,\"name\":\"flex_direction\"},{\"default\":\"wrap\",\"kind\":null,\"name\":\"flex_wrap\"},{\"default\":\"flex-start\",\"kind\":null,\"name\":\"justify_content\"}]},{\"extends\":null,\"module\":null,\"name\":\"GridStack1\",\"overrides\":[],\"properties\":[{\"default\":\"warn\",\"kind\":null,\"name\":\"mode\"},{\"default\":null,\"kind\":null,\"name\":\"ncols\"},{\"default\":null,\"kind\":null,\"name\":\"nrows\"},{\"default\":true,\"kind\":null,\"name\":\"allow_resize\"},{\"default\":true,\"kind\":null,\"name\":\"allow_drag\"},{\"default\":[],\"kind\":null,\"name\":\"state\"}]},{\"extends\":null,\"module\":null,\"name\":\"click1\",\"overrides\":[],\"properties\":[{\"default\":\"\",\"kind\":null,\"name\":\"terminal_output\"},{\"default\":\"\",\"kind\":null,\"name\":\"debug_name\"},{\"default\":0,\"kind\":null,\"name\":\"clears\"}]},{\"extends\":null,\"module\":null,\"name\":\"TemplateActions1\",\"overrides\":[],\"properties\":[{\"default\":0,\"kind\":null,\"name\":\"open_modal\"},{\"default\":0,\"kind\":null,\"name\":\"close_modal\"}]},{\"extends\":null,\"module\":null,\"name\":\"MaterialTemplateActions1\",\"overrides\":[],\"properties\":[{\"default\":0,\"kind\":null,\"name\":\"open_modal\"},{\"default\":0,\"kind\":null,\"name\":\"close_modal\"}]}],\"roots\":{\"references\":[{\"attributes\":{\"below\":[{\"id\":\"1504\"}],\"center\":[{\"id\":\"1507\"},{\"id\":\"1511\"}],\"height\":300,\"left\":[{\"id\":\"1508\"}],\"margin\":[5,5,5,5],\"min_border_bottom\":10,\"min_border_left\":10,\"min_border_right\":10,\"min_border_top\":10,\"renderers\":[{\"id\":\"1531\"}],\"sizing_mode\":\"fixed\",\"title\":{\"id\":\"1496\"},\"toolbar\":{\"id\":\"1518\"},\"width\":700,\"x_range\":{\"id\":\"1492\"},\"x_scale\":{\"id\":\"1500\"},\"y_range\":{\"id\":\"1493\"},\"y_scale\":{\"id\":\"1502\"}},\"id\":\"1495\",\"subtype\":\"Figure\",\"type\":\"Plot\"},{\"attributes\":{},\"id\":\"1509\",\"type\":\"BasicTicker\"},{\"attributes\":{\"coordinates\":null,\"group\":null,\"text\":\"The Volume for SPY\",\"text_color\":\"black\",\"text_font_size\":\"12pt\"},\"id\":\"1496\",\"type\":\"Title\"},{\"attributes\":{},\"id\":\"1513\",\"type\":\"PanTool\"},{\"attributes\":{},\"id\":\"1500\",\"type\":\"LinearScale\"},{\"attributes\":{\"end\":690.0,\"reset_end\":690.0,\"reset_start\":0.0,\"tags\":[[[\"index\",\"index\",null]]]},\"id\":\"1492\",\"type\":\"Range1d\"},{\"attributes\":{},\"id\":\"1512\",\"type\":\"SaveTool\"},{\"attributes\":{},\"id\":\"1514\",\"type\":\"WheelZoomTool\"},{\"attributes\":{},\"id\":\"1547\",\"type\":\"UnionRenderers\"},{\"attributes\":{\"tools\":[{\"id\":\"1494\"},{\"id\":\"1512\"},{\"id\":\"1513\"},{\"id\":\"1514\"},{\"id\":\"1515\"},{\"id\":\"1516\"}]},\"id\":\"1518\",\"type\":\"Toolbar\"},{\"attributes\":{\"axis_label\":\"Volume Prices\",\"coordinates\":null,\"formatter\":{\"id\":\"1538\"},\"group\":null,\"major_label_policy\":{\"id\":\"1539\"},\"ticker\":{\"id\":\"1509\"}},\"id\":\"1508\",\"type\":\"LinearAxis\"},{\"attributes\":{\"overlay\":{\"id\":\"1517\"}},\"id\":\"1515\",\"type\":\"BoxZoomTool\"},{\"attributes\":{},\"id\":\"1536\",\"type\":\"AllLabels\"},{\"attributes\":{\"coordinates\":null,\"data_source\":{\"id\":\"1525\"},\"glyph\":{\"id\":\"1528\"},\"group\":null,\"hover_glyph\":null,\"muted_glyph\":{\"id\":\"1530\"},\"nonselection_glyph\":{\"id\":\"1529\"},\"selection_glyph\":{\"id\":\"1533\"},\"view\":{\"id\":\"1532\"}},\"id\":\"1531\",\"type\":\"GlyphRenderer\"},{\"attributes\":{},\"id\":\"1535\",\"type\":\"BasicTickFormatter\"},{\"attributes\":{\"line_color\":\"#30a2da\",\"line_width\":2,\"x\":{\"field\":\"index\"},\"y\":{\"field\":\"volume\"}},\"id\":\"1533\",\"type\":\"Line\"},{\"attributes\":{},\"id\":\"1505\",\"type\":\"BasicTicker\"},{\"attributes\":{},\"id\":\"1516\",\"type\":\"ResetTool\"},{\"attributes\":{},\"id\":\"1539\",\"type\":\"AllLabels\"},{\"attributes\":{\"axis\":{\"id\":\"1504\"},\"coordinates\":null,\"grid_line_color\":null,\"group\":null,\"ticker\":null},\"id\":\"1507\",\"type\":\"Grid\"},{\"attributes\":{},\"id\":\"1538\",\"type\":\"BasicTickFormatter\"},{\"attributes\":{\"line_alpha\":0.2,\"line_color\":\"#30a2da\",\"line_width\":2,\"x\":{\"field\":\"index\"},\"y\":{\"field\":\"volume\"}},\"id\":\"1530\",\"type\":\"Line\"},{\"attributes\":{\"axis\":{\"id\":\"1508\"},\"coordinates\":null,\"dimension\":1,\"grid_line_color\":null,\"group\":null,\"ticker\":null},\"id\":\"1511\",\"type\":\"Grid\"},{\"attributes\":{\"line_alpha\":0.1,\"line_color\":\"#30a2da\",\"line_width\":2,\"x\":{\"field\":\"index\"},\"y\":{\"field\":\"volume\"}},\"id\":\"1529\",\"type\":\"Line\"},{\"attributes\":{\"callback\":null,\"renderers\":[{\"id\":\"1531\"}],\"tags\":[\"hv_created\"],\"tooltips\":[[\"index\",\"@{index}\"],[\"volume\",\"@{volume}\"]]},\"id\":\"1494\",\"type\":\"HoverTool\"},{\"attributes\":{\"bottom_units\":\"screen\",\"coordinates\":null,\"fill_alpha\":0.5,\"fill_color\":\"lightgrey\",\"group\":null,\"left_units\":\"screen\",\"level\":\"overlay\",\"line_alpha\":1.0,\"line_color\":\"black\",\"line_dash\":[4,4],\"line_width\":2,\"right_units\":\"screen\",\"syncable\":false,\"top_units\":\"screen\"},\"id\":\"1517\",\"type\":\"BoxAnnotation\"},{\"attributes\":{\"end\":466987068.5,\"reset_end\":466987068.5,\"reset_start\":-13590257.5,\"start\":-13590257.5,\"tags\":[[[\"volume\",\"volume\",null]]]},\"id\":\"1493\",\"type\":\"Range1d\"},{\"attributes\":{},\"id\":\"1502\",\"type\":\"LinearScale\"},{\"attributes\":{\"margin\":[5,5,5,5],\"name\":\"HSpacer02619\",\"sizing_mode\":\"stretch_width\"},\"id\":\"1560\",\"type\":\"Spacer\"},{\"attributes\":{\"source\":{\"id\":\"1525\"}},\"id\":\"1532\",\"type\":\"CDSView\"},{\"attributes\":{\"margin\":[5,5,5,5],\"name\":\"HSpacer02618\",\"sizing_mode\":\"stretch_width\"},\"id\":\"1491\",\"type\":\"Spacer\"},{\"attributes\":{\"axis_label\":\"Time Lenght\",\"coordinates\":null,\"formatter\":{\"id\":\"1535\"},\"group\":null,\"major_label_policy\":{\"id\":\"1536\"},\"ticker\":{\"id\":\"1505\"}},\"id\":\"1504\",\"type\":\"LinearAxis\"},{\"attributes\":{\"line_color\":\"#30a2da\",\"line_width\":2,\"x\":{\"field\":\"index\"},\"y\":{\"field\":\"volume\"}},\"id\":\"1528\",\"type\":\"Line\"},{\"attributes\":{\"children\":[{\"id\":\"1491\"},{\"id\":\"1495\"},{\"id\":\"1560\"}],\"margin\":[0,0,0,0],\"name\":\"Row02614\",\"tags\":[\"embedded\"]},\"id\":\"1490\",\"type\":\"Row\"},{\"attributes\":{\"data\":{\"index\":[0,1,2,3,4,5,6,7,8,9,10,11,12,13,14,15,16,17,18,19,20,21,22,23,24,25,26,27,28,29,30,31,32,33,34,35,36,37,38,39,40,41,42,43,44,45,46,47,48,49,50,51,52,53,54,55,56,57,58,59,60,61,62,63,64,65,66,67,68,69,70,71,72,73,74,75,76,77,78,79,80,81,82,83,84,85,86,87,88,89,90,91,92,93,94,95,96,97,98,99,100,101,102,103,104,105,106,107,108,109,110,111,112,113,114,115,116,117,118,119,120,121,122,123,124,125,126,127,128,129,130,131,132,133,134,135,136,137,138,139,140,141,142,143,144,145,146,147,148,149,150,151,152,153,154,155,156,157,158,159,160,161,162,163,164,165,166,167,168,169,170,171,172,173,174,175,176,177,178,179,180,181,182,183,184,185,186,187,188,189,190,191,192,193,194,195,196,197,198,199,200,201,202,203,204,205,206,207,208,209,210,211,212,213,214,215,216,217,218,219,220,221,222,223,224,225,226,227,228,229,230,231,232,233,234,235,236,237,238,239,240,241,242,243,244,245,246,247,248,249,250,251,252,253,254,255,256,257,258,259,260,261,262,263,264,265,266,267,268,269,270,271,272,273,274,275,276,277,278,279,280,281,282,283,284,285,286,287,288,289,290,291,292,293,294,295,296,297,298,299,300,301,302,303,304,305,306,307,308,309,310,311,312,313,314,315,316,317,318,319,320,321,322,323,324,325,326,327,328,329,330,331,332,333,334,335,336,337,338,339,340,341,342,343,344,345,346,347,348,349,350,351,352,353,354,355,356,357,358,359,360,361,362,363,364,365,366,367,368,369,370,371,372,373,374,375,376,377,378,379,380,381,382,383,384,385,386,387,388,389,390,391,392,393,394,395,396,397,398,399,400,401,402,403,404,405,406,407,408,409,410,411,412,413,414,415,416,417,418,419,420,421,422,423,424,425,426,427,428,429,430,431,432,433,434,435,436,437,438,439,440,441,442,443,444,445,446,447,448,449,450,451,452,453,454,455,456,457,458,459,460,461,462,463,464,465,466,467,468,469,470,471,472,473,474,475,476,477,478,479,480,481,482,483,484,485,486,487,488,489,490,491,492,493,494,495,496,497,498,499,500,501,502,503,504,505,506,507,508,509,510,511,512,513,514,515,516,517,518,519,520,521,522,523,524,525,526,527,528,529,530,531,532,533,534,535,536,537,538,539,540,541,542,543,544,545,546,547,548,549,550,551,552,553,554,555,556,557,558,559,560,561,562,563,564,565,566,567,568,569,570,571,572,573,574,575,576,577,578,579,580,581,582,583,584,585,586,587,588,589,590,591,592,593,594,595,596,597,598,599,600,601,602,603,604,605,606,607,608,609,610,611,612,613,614,615,616,617,618,619,620,621,622,623,624,625,626,627,628,629,630,631,632,633,634,635,636,637,638,639,640,641,642,643,644,645,646,647,648,649,650,651,652,653,654,655,656,657,658,659,660,661,662,663,664,665,666,667,668,669,670,671,672,673,674,675,676,677,678,679,680,681,682,683,684,685,686,687,688,689,690],\"volume\":[64582210,57342526,48814692,74170362,113788208,161339718,219005282,195021130,285043552,389556413,238711615,302774450,176647833,186646891,228918131,309425747,276444058,256678789,392221671,329567333,297416055,263343391,327642361,289341493,347531123,326162824,236042267,299488281,257648210,224421276,171261866,194881352,189578743,177660430,135661262,188061815,201428461,153774487,190283195,114868253,134143470,121779042,132398585,146685294,100109301,126385698,93524584,104753796,85169903,78438608,106308551,118756595,123003721,125180028,80882213,79569939,73632628,75250412,76622128,79515876,95999786,144809899,121978055,111232676,120320234,95189316,85861691,78293931,63958200,88951583,104817449,90767807,119265702,56679836,74267162,92567574,75794363,151025824,73642282,77479230,95001090,209243560,194681279,135789334,137623502,83200944,80828658,136935124,74649389,68471267,132815122,89467968,127963017,80023261,113444772,72474858,69344217,61713828,82909978,54638669,83354178,57550365,102997484,93545651,87194095,54622520,64041703,56308960,57502967,57794928,75737989,73764897,48292970,57494979,48454159,61861788,85211555,53078112,41917896,42870955,43679448,57282821,44268089,69601087,53717138,41816146,49082893,35480974,38729908,68054355,42207826,55106628,48588662,38463381,50790237,58034142,47379940,66099183,54999325,69540035,148057129,139181102,114715434,90967290,90569586,84680194,65605686,52920862,82211256,91523340,105877942,99453429,63612107,93212240,76931332,71069426,64614614,51531594,104049136,88698745,89456112,45713108,90075105,56999597,45242621,59528606,80468433,73255513,57958749,60369659,89501868,68425614,60051880,63574979,55399392,49143931,91473002,66118632,127094317,90597689,120445185,86068377,93295410,230901841,82039749,74972973,172304219,85536272,58649048,68118563,62809429,74541138,66102310,71472686,59940947,70337640,63151418,62415677,45323788,28514072,83872709,74504970,45977000,62871998,50479859,48944269,42458884,74098312,57735361,57698614,69216174,64071099,58420517,64119472,136543304,96386745,48388462,46201402,26457853,39000402,53677551,49455259,78580702,110210840,66431029,107997675,68770412,71677208,51176719,52547716,45510619,49989116,107559962,51233300,61836062,47956109,52136931,70401971,42665281,123351578,94198104,126760121,75817597,64450662,52427090,47142555,48665274,38365185,35551059,59154371,42913288,50593270,50972366,52806681,59712773,83340971,67409670,107284127,72433946,146670499,152701639,105348798,79595332,119940211,183435020,152039624,123144245,113633556,109899410,86245040,64653565,73592302,73729506,97959265,115605601,113849490,73778646,90686552,97585644,116128622,114409114,108107626,76262249,112734221,99125509,91222387,61719569,55309797,57215564,60464243,55013535,53891575,60173072,57964604,77586384,75521875,78664601,64670528,97166832,73137609,51824860,50297139,50692781,76965583,84731942,67670957,100024724,59551464,72531325,67458109,81130171,116309041,133912107,102500575,81582489,65129221,59810238,106466952,78022218,76578662,51376702,57451396,43088518,56707677,58529164,54216625,49095061,58138763,55938789,51555032,47134279,48436141,50792340,45177862,42223981,51444670,79926868,90002891,117958388,72285460,57214723,48954895,44763870,57828107,52952377,35906775,64702769,52968992,57503965,68584408,63291716,97206464,75668368,52780900,52381456,63732468,54666872,75513766,146479669,98785587,64359452,47698959,63444860,43573646,67308447,51932566,47064423,68572375,58330752,57534514,46469753,38840294,46862730,40999037,43176053,43878658,38915418,39373657,73751261,92452576,89016658,92345277,71733322,54669373,38729613,40466079,57535764,76844604,48272514,59042672,48436745,42765216,47167499,51610671,55762041,57872931,89700480,83550986,77873158,78589104,77743550,118337974,165901533,92477763,101685345,75697329,61860900,61112238,129823873,81463936,138608444,128881427,127412153,90354358,111692942,72156521,74044017,64739711,70277017,72061830,69791487,65494612,60874661,46148147,48861693,40711481,57592817,44443003,55116672,71366673,50708107,69087603,47634255,48748307,52413852,52840344,66356269,50341861,50887844,69275988,34844670,53334930,46854294,48788475,47810502,50487933,57143496,72727943,73011018,61428875,112447527,86160517,148106458,131947695,127126427,136958973,98342502,95227392,72149262,60754098,76948117,87588564,97038744,116594429,116255867,135375240,104202382,69617910,58717666,56225580,56689618,47190464,54405126,55320886,65204777,72604064,71129958,102085598,86499197,84895774,118474538,74303062,67555928,90905992,95697800,109577757,109067113,121602450,201250939,246845274,167727360,182006412,149149566,163986462,151973024,122606343,117102402,117667291,118023787,84270813,80723593,90009196,136432972,147819171,116782833,86213213,80837453,96695524,127539625,120256654,125593802,426938958,116910365,139630286,132591866,112957076,99533365,108862783,131006026,158889879,110176599,91933614,90832525,90824491,103609612,138027168,100056509,102315262,85377970,73300801,77982264,61409702,76545292,131687956,173082835,159109186,119151277,88675787,59413904,73968352,104761415,75825725,78005513,89305237,83953693,73471758,97657351,65714873,77643595,64714530,84866280,132020752,118808140,101068359,119880232,104583969,144714757,157215637,99351794,142120643,171085431,150826495,151186726,131470747,140987310,124141173,101432023,77951071,80161929,112772898,97539566,128945686,74972869,90663762,90520905,81867461,84345150,94447950,85820291,78866434,68321202,56893593,57784776,64087538,85991523,132260189,167727665,103637454,121030433,133860380,108646124,76402512,89590834,78067674,93236664,65552350,86220310,64276557,111478019,74084447,79886359,69842806,64172156,71954884,57305434,61996427,83568542,89124659,78742871,62864897,78159593,70075073,63527356,71730285,53336510,52767480,81319074,73966563,86779944,69633616,63113622,67573063,45565581,56751151,53867272,44110509,68139304,59337460,61456095,53978293,59118566,63266564,47948507,67861630,77604197,48952606,48983049,48816114,102743389,65225959,85326406,75597377,78315802,98944421,75551777,70572980,80177250,76514124,68747117,122318529,84570857,87043825,102473759,72766494,76685764,104302139,88922900,121574096,91731346,105884493,109578062,112068880,152567865,89052594,102736573,87641027,81289636,107239188,75459157,91448816,76538522,145171940,122920585,92765345,96898206,79481512,87963935,130542269,85131661,78656471,103779972,81650038,100160252,94154112,83777606,123496452,85657400,103253613,68127819,84098301,77996412]},\"selected\":{\"id\":\"1526\"},\"selection_policy\":{\"id\":\"1547\"}},\"id\":\"1525\",\"type\":\"ColumnDataSource\"},{\"attributes\":{},\"id\":\"1526\",\"type\":\"Selection\"}],\"root_ids\":[\"1490\"]},\"title\":\"Bokeh Application\",\"version\":\"2.4.2\"}};\n",
       "    var render_items = [{\"docid\":\"8603a3c6-eca6-45a4-ab69-16af00b5086f\",\"root_ids\":[\"1490\"],\"roots\":{\"1490\":\"a8eea9f0-5f9a-43b1-b752-58cdd7040bbc\"}}];\n",
       "    root.Bokeh.embed.embed_items_notebook(docs_json, render_items);\n",
       "  }\n",
       "  if (root.Bokeh !== undefined && root.Bokeh.Panel !== undefined) {\n",
       "    embed_document(root);\n",
       "  } else {\n",
       "    var attempts = 0;\n",
       "    var timer = setInterval(function(root) {\n",
       "      if (root.Bokeh !== undefined && root.Bokeh.Panel !== undefined) {\n",
       "        clearInterval(timer);\n",
       "        embed_document(root);\n",
       "      } else if (document.readyState == \"complete\") {\n",
       "        attempts++;\n",
       "        if (attempts > 200) {\n",
       "          clearInterval(timer);\n",
       "          console.log(\"Bokeh: ERROR: Unable to run BokehJS code because BokehJS library is missing\");\n",
       "        }\n",
       "      }\n",
       "    }, 25, root)\n",
       "  }\n",
       "})(window);</script>"
      ],
      "text/plain": [
       ":Curve   [index]   (volume)"
      ]
     },
     "execution_count": 46,
     "metadata": {
      "application/vnd.holoviews_exec.v0+json": {
       "id": "1490"
      }
     },
     "output_type": "execute_result"
    }
   ],
   "source": [
    "# Create a table for the High Prices\n",
    "SPY_volume = df_spy['volume']\n",
    "SPY_volume_df = pd.DataFrame(SPY_volume)\n",
    "\n",
    "# Create a SPY high prices table\n",
    "SPY_volume_df.to_sql('SPY_volume',Engine, index=False,if_exists='replace')\n",
    "Engine.table_names()\n",
    "\n",
    "# Make a query to get the SPY volume prices\n",
    "SPY_volume_table = \"\"\"\n",
    "SELECT *\n",
    "FROM SPY_volume\n",
    "\"\"\"\n",
    "\n",
    "# Call the query \n",
    "spy_volume_df = pd.read_sql_query(SPY_volume_table, con=Engine)\n",
    "\n",
    "# Plot the query for the SPY Prices\n",
    "spy_volume_df.hvplot(xlabel=\"Time Lenght\",ylabel=\"Volume Prices\",title=\"The Volume for SPY\")"
   ]
  },
  {
   "cell_type": "code",
   "execution_count": 52,
   "id": "b8d6904f",
   "metadata": {},
   "outputs": [
    {
     "data": {
      "text/plain": [
       "<function __main__.get_data_spy()>"
      ]
     },
     "execution_count": 52,
     "metadata": {},
     "output_type": "execute_result"
    }
   ],
   "source": [
    "def get_data_spy():\n",
    "    ALPACA_API_KEY = 'PK2BWJQC7W7Z3C87TKI6'\n",
    "    ALPACA_SECRET_KEY = 'qox7s7aZ70L9yAp8HS6Kz0JXngu6a20ikuD3EmCq'\n",
    "    \n",
    "    # # Set the variables for the Alpaca API and secret keys\n",
    "    # alpaca_api_key=os.getenv(ALPACA_API_KEY)\n",
    "    # # Create the Alpaca tradeapi.REST object\n",
    "    # alpaca_secret_key=os.getenv(ALPACA_SECRET_KEY)\n",
    "\n",
    "\n",
    "\n",
    "    alpaca=tradeapi.REST(ALPACA_API_KEY,ALPACA_SECRET_KEY,api_version=\"v2\")\n",
    "\n",
    "\n",
    "    #Setting the tickers\n",
    "    tickers = ['SPY']\n",
    "\n",
    "    #Setting the timeframe\n",
    "    timeframe='1Day'\n",
    "\n",
    "    #Formatting the date\n",
    "    today = pd.Timestamp.now(tz=\"US/Pacific\")\n",
    "    a_year_ago = pd.Timestamp(today - pd.Timedelta(days=1001)).isoformat()\n",
    "    end_date = pd.Timestamp(today - pd.Timedelta(days=1)).isoformat()\n",
    "\n",
    "    #Getting the closing prices\n",
    "    spy_price = alpaca.get_bars(\n",
    "    tickers,\n",
    "    timeframe,\n",
    "    start=a_year_ago,\n",
    "    end=end_date\n",
    "    ).df\n",
    "\n",
    "    # Check for NaN Values\n",
    "    spy_price.isnull().dropna()\n",
    "\n",
    "    df_spy = spy_price.drop(columns=[\"trade_count\",\"vwap\",\"symbol\"])\n",
    "    return df_spy\n",
    "    \n",
    "get_data_spy"
   ]
  },
  {
   "cell_type": "code",
   "execution_count": null,
   "id": "717f5d8d",
   "metadata": {},
   "outputs": [],
   "source": []
  }
 ],
 "metadata": {
  "kernelspec": {
   "display_name": "dev",
   "language": "python",
   "name": "dev"
  },
  "language_info": {
   "codemirror_mode": {
    "name": "ipython",
    "version": 3
   },
   "file_extension": ".py",
   "mimetype": "text/x-python",
   "name": "python",
   "nbconvert_exporter": "python",
   "pygments_lexer": "ipython3",
   "version": "3.7.13"
  },
  "vscode": {
   "interpreter": {
    "hash": "31f2aee4e71d21fbe5cf8b01ff0e069b9275f58929596ceb00d14d90e3e16cd6"
   }
  }
 },
 "nbformat": 4,
 "nbformat_minor": 5
}
