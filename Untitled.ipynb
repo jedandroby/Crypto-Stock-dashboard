{
 "cells": [
  {
   "cell_type": "code",
   "execution_count": 14,
   "id": "c5b4553a-1246-4a37-859a-ce3effdef3d7",
   "metadata": {},
   "outputs": [],
   "source": [
    "# import streamlit as st\n",
    "from datetime import date\n",
    "import plotly.graph_objects as go\n",
    "import yfinance as yf\n",
    "import pandas as pd\n",
    "import numpy as np\n",
    "import math\n",
    "import matplotlib.pyplot as plt\n",
    "from finta import TA"
   ]
  },
  {
   "cell_type": "code",
   "execution_count": 15,
   "id": "1342ed3f-308e-4744-b51c-0ddfded608b4",
   "metadata": {},
   "outputs": [],
   "source": [
    "\n",
    "\n",
    "\n",
    "# <<<<<<< HEAD\n",
    "START = \"2010-01-01\"\n",
    "TODAY = date.today().strftime(\"%Y-%m-%d\")\n",
    "# =======\n",
    "\n",
    "def monsim():\n",
    "    START = \"2010-01-01\"\n",
    "    TODAY = date.today().strftime(\"%Y-%m-%d\")\n",
    "\n",
    "    st.title(\"Monte Carlo Asset Predictor\")\n",
    "# >>>>>>> 3a92c204243b3da87ecc97f041ff03a673f631fe\n",
    "\n",
    "    stocks = (\"BTC-USD\",\"LINK-USD\",\"SOL-USD\",\"MATIC-USD\",\"MANA-USD\",\"DOT-USD\",\"AVAX-USD\",\"XLM-USD\",\"LTC-USD\",\"XRP-USD\",\"BNB-USD\",\"UNI-USD\",\"ETH-USD\",\"ADA-USD\",\"USDC-USD\",\"BAT-USD\")\n",
    "    selected_stocks = st.selectbox(\"Pick a coin for prediction\",stocks)\n",
    "\n",
    "    # n_years = st.slider(\"Years of Prediction:\",1,15)\n",
    "    # period = n_years * 365\n",
    "\n",
    "\n",
    "    @st.cache\n",
    "    def load_data(ticker):\n",
    "        data = yf.download(ticker,START,TODAY)\n",
    "        data.reset_index('Date',inplace=True)\n",
    "        data = pd.DataFrame(data)\n",
    "        return data"
   ]
  },
  {
   "cell_type": "code",
   "execution_count": null,
   "id": "645b8df2-73f7-4e22-9044-2475d088621c",
   "metadata": {},
   "outputs": [],
   "source": []
  }
 ],
 "metadata": {
  "kernelspec": {
   "display_name": "Python 3 (ipykernel)",
   "language": "python",
   "name": "python3"
  },
  "language_info": {
   "codemirror_mode": {
    "name": "ipython",
    "version": 3
   },
   "file_extension": ".py",
   "mimetype": "text/x-python",
   "name": "python",
   "nbconvert_exporter": "python",
   "pygments_lexer": "ipython3",
   "version": "3.7.15"
  }
 },
 "nbformat": 4,
 "nbformat_minor": 5
}
