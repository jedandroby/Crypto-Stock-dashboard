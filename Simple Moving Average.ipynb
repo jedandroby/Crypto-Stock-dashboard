{
 "cells": [
  {
   "cell_type": "code",
   "execution_count": null,
   "id": "5eeb765e-ea39-4cd1-8057-bf52d3b4a976",
   "metadata": {},
   "outputs": [],
   "source": [
    "# Simple Moving Average (SMA)"
   ]
  },
  {
   "cell_type": "code",
   "execution_count": null,
   "id": "b1faab17-e197-4260-aae8-f2c5b95e7ec3",
   "metadata": {},
   "outputs": [],
   "source": [
    "# Website Link: https://www.geeksforgeeks.org/how-to-calculate-moving-average-in-a-pandas-dataframe/"
   ]
  },
  {
   "cell_type": "code",
   "execution_count": null,
   "id": "9cba6836-3f25-4ea2-973f-83133cfaf24e",
   "metadata": {},
   "outputs": [],
   "source": [
    "# In Python, we can calculate the moving average using .rolling() method. This method provides rolling windows over the data, \n",
    "# and we can use the mean function over these windows to calculate moving averages. The size of the window is passed as a parameter \n",
    "# in the function .rolling(window).\n",
    "\n",
    "# Now let’s see an example of how to calculate a simple rolling mean over a period of 30 days."
   ]
  },
  {
   "cell_type": "code",
   "execution_count": null,
   "id": "8747df6a-31d5-4602-8d4d-ff4230f5a631",
   "metadata": {},
   "outputs": [],
   "source": [
    "# Step 1: Importing Libraries\n",
    "\n",
    "# Importing Libraries\n",
    "import pandas as pd\n",
    "import numpy as np\n",
    "import matplotlib.pyplot as plt\n",
    "plt.style.use('default')\n",
    "%matplotlib inline\n",
    "\n",
    "\n",
    "# Step 2: Importing Data \n",
    "\n",
    "# Importing time-series data\n",
    "reliance = pd.read_csv('RELIANCE.NS.csv', index_col='Date',\n",
    "\t\t\t\t\tparse_dates=True)\n",
    "\n",
    "# Printing dataFrame\n",
    "reliance.head()\n",
    "\n",
    "\n",
    "# Step 3: Calculating Simple Moving Average\n",
    "\n",
    "# Updating our dataFrame to have only one column 'Close' as rest all columns are of no use for us at the moment\n",
    "# using .to_frame() to convert pandas series into dataframe.\n",
    "reliance = reliance['Close'].to_frame()\n",
    "\n",
    "# calculating simple moving average using .rolling(window).mean(), with window size = 30\n",
    "reliance['SMA30'] = reliance['Close'].rolling(30).mean()\n",
    "\n",
    "# Removing all the NULL values using dropna() method\n",
    "reliance.dropna(inplace=True)\n",
    "\n",
    "# Printing Dataframe\n",
    "reliance\n",
    "\n",
    "\n",
    "# Step 4: Plotting Simple Moving Averages\n",
    "\n",
    "# Plotting Close price and simple moving average of 30 days using .plot() method\n",
    "reliance[['Close', 'SMA30']].plot(label='RELIANCE',\n",
    "\t\t\t\t\t\t\t\tfigsize=(16, 8))\n"
   ]
  }
 ],
 "metadata": {
  "kernelspec": {
   "display_name": "Python (dev)",
   "language": "python",
   "name": "dev"
  },
  "language_info": {
   "codemirror_mode": {
    "name": "ipython",
    "version": 3
   },
   "file_extension": ".py",
   "mimetype": "text/x-python",
   "name": "python",
   "nbconvert_exporter": "python",
   "pygments_lexer": "ipython3",
   "version": "3.7.13"
  }
 },
 "nbformat": 4,
 "nbformat_minor": 5
}
