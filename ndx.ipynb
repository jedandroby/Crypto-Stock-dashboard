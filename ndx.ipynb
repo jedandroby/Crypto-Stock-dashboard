{
 "cells": [
  {
   "cell_type": "code",
   "execution_count": 1,
   "id": "3dbfe1ac-ac45-4e9b-abd3-bc40b57de070",
   "metadata": {},
   "outputs": [
    {
     "ename": "NameError",
     "evalue": "name 'os' is not defined",
     "output_type": "error",
     "traceback": [
      "\u001b[0;31m---------------------------------------------------------------------------\u001b[0m",
      "\u001b[0;31mNameError\u001b[0m                                 Traceback (most recent call last)",
      "\u001b[0;32m/var/folders/nr/728kg3p15rx909xr1v3xp0kh0000gn/T/ipykernel_1733/296514868.py\u001b[0m in \u001b[0;36m<module>\u001b[0;34m\u001b[0m\n\u001b[1;32m      7\u001b[0m \u001b[0;34m\u001b[0m\u001b[0m\n\u001b[1;32m      8\u001b[0m \u001b[0;31m# Set Alpaca API key and secret\u001b[0m\u001b[0;34m\u001b[0m\u001b[0;34m\u001b[0m\u001b[0;34m\u001b[0m\u001b[0m\n\u001b[0;32m----> 9\u001b[0;31m \u001b[0malpaca_api_key\u001b[0m \u001b[0;34m=\u001b[0m \u001b[0mos\u001b[0m\u001b[0;34m.\u001b[0m\u001b[0mgetenv\u001b[0m\u001b[0;34m(\u001b[0m\u001b[0;34m\"ALPACA_API_KEY\"\u001b[0m\u001b[0;34m)\u001b[0m\u001b[0;34m\u001b[0m\u001b[0;34m\u001b[0m\u001b[0m\n\u001b[0m\u001b[1;32m     10\u001b[0m \u001b[0malpaca_secret_key\u001b[0m \u001b[0;34m=\u001b[0m \u001b[0mos\u001b[0m\u001b[0;34m.\u001b[0m\u001b[0mgetenv\u001b[0m\u001b[0;34m(\u001b[0m\u001b[0;34m\"ALPACA_SECRET_KEY\"\u001b[0m\u001b[0;34m)\u001b[0m\u001b[0;34m\u001b[0m\u001b[0;34m\u001b[0m\u001b[0m\n\u001b[1;32m     11\u001b[0m \u001b[0;34m\u001b[0m\u001b[0m\n",
      "\u001b[0;31mNameError\u001b[0m: name 'os' is not defined"
     ]
    }
   ],
   "source": [
    "# Import the required libraries and dependencies\n",
    "\n",
    "import requests\n",
    "import pandas as pd\n",
    "import alpaca_trade_api as tradeapi\n",
    "\n",
    "\n",
    "# Set Alpaca API key and secret\n",
    "alpaca_api_key = os.getenv(\"ALPACA_API_KEY\")\n",
    "alpaca_secret_key = os.getenv(\"ALPACA_SECRET_KEY\")\n",
    "\n",
    "    # Create the Alpaca API object\n",
    "def get_data_ndx():\n",
    "    alpaca = tradeapi.REST(\n",
    "        alpaca_api_key,\n",
    "        alpaca_secret_key,\n",
    "        api_version=\"v2\")\n",
    "\n",
    "    # Format current date as ISO format \n",
    "    a_year_ago = pd.Timestamp(today - pd.Timedelta(days=365)).isoformat()\n",
    "    end_date = pd.Timestamp(today - pd.Timedelta(days=1)).isoformat()\n",
    "\n",
    "    # Set the tickers\n",
    "    tickers = [\"NDX\"]\n",
    "\n",
    "\n",
    "    # Set timeframe to one day ('1Day') for the Alpaca API\n",
    "    timeframe = \"1D\"\n",
    "\n",
    "    # Get current closing prices for NDX\n",
    "    dspy_price = alpaca.get_bars(\n",
    "        tickers,\n",
    "        timeframe,\n",
    "        start=a_year_ago,\n",
    "        end=end_date\n",
    "    ).df\n",
    "\n",
    "    # Display sample data\n",
    "\n",
    "    # Separate Ticker Data\n",
    "    df_portfolio\n",
    "    NDX = df_portfolio[df_portfolio['symbol']=='NDX'].drop('symbol', axis=1)\n",
    "\n",
    "\n",
    "    # Concatenate the Ticker DataFrames\n",
    "\n",
    "    df_portfolio = pd.concat([NDX],axis=1, keys=['NDX'])\n",
    "\n",
    "    # Display sample data\n",
    "    df_portfolio\n",
    "    ndx_close = df_portfolio[\"NDX\"][\"close\"]\n",
    "\n",
    "    # Create an empty DataFrame for closing prices\n",
    "    closing_prices_df = pd.DataFrame()\n",
    "\n",
    "    # Get the closing prices of NDX\n",
    "    closing_prices_df[\"NDX\"] = df_portfolio[\"NDX\"][\"close\"]\n",
    "\n",
    "    # Drop the time component of the date\n",
    "    closing_prices_df.index = closing_prices_df.index.date\n",
    "\n",
    "    # Display sample data\n",
    "    closing_prices_df.head(10)\n",
    "\n",
    "    # Compute daily returns\n",
    "    daily_returns_df = closing_prices_df.pct_change().dropna()\n",
    "\n",
    "    # Display sample data\n",
    "    daily_returns_df.head()"
   ]
  },
  {
   "cell_type": "code",
   "execution_count": null,
   "id": "93372e87-f4d3-4b8e-b445-2fd4b1a5b726",
   "metadata": {},
   "outputs": [],
   "source": []
  }
 ],
 "metadata": {
  "kernelspec": {
   "display_name": "dev",
   "language": "python",
   "name": "dev"
  },
  "language_info": {
   "codemirror_mode": {
    "name": "ipython",
    "version": 3
   },
   "file_extension": ".py",
   "mimetype": "text/x-python",
   "name": "python",
   "nbconvert_exporter": "python",
   "pygments_lexer": "ipython3",
   "version": "3.7.13"
  }
 },
 "nbformat": 4,
 "nbformat_minor": 5
}
