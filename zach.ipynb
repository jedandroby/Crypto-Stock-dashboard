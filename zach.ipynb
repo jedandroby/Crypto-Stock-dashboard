{
 "cells": [
  {
   "cell_type": "code",
   "execution_count": null,
   "id": "45a1cd7d-6a2c-4923-adf8-876621079b66",
   "metadata": {},
   "outputs": [],
   "source": [
    "spy_close = spy_price['close']\n",
    "spy_close.head()\n",
    "spy_df = pd.DataFrame(spy_close)\n",
    "spy_df"
   ]
  }
 ],
 "metadata": {
  "kernelspec": {
   "display_name": "Python (dev)",
   "language": "python",
   "name": "dev"
  },
  "language_info": {
   "codemirror_mode": {
    "name": "ipython",
    "version": 3
   },
   "file_extension": ".py",
   "mimetype": "text/x-python",
   "name": "python",
   "nbconvert_exporter": "python",
   "pygments_lexer": "ipython3",
   "version": "3.7.13"
  }
 },
 "nbformat": 4,
 "nbformat_minor": 5
}
